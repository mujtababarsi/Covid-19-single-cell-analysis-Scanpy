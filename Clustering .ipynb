{
 "cells": [
  {
   "cell_type": "code",
   "execution_count": 1,
   "id": "6d2f0f51",
   "metadata": {},
   "outputs": [],
   "source": [
    "import numpy as np\n",
    "import pandas as pd\n",
    "import scanpy as sc\n",
    "import matplotlib.pyplot as plt\n",
    "\n",
    "sc.settings.verbosity = 3      "
   ]
  },
  {
   "cell_type": "code",
   "execution_count": 2,
   "id": "27d217a5",
   "metadata": {},
   "outputs": [],
   "source": [
    "sc.settings.set_figure_params(dpi=80)"
   ]
  },
  {
   "cell_type": "code",
   "execution_count": 3,
   "id": "77091da5",
   "metadata": {},
   "outputs": [],
   "source": [
    "# scanorama integration data.\n",
    "\n",
    "save_file = './data/results/scanpy_scanorama_corrected_covid.h5ad'\n",
    "adata = sc.read_h5ad(save_file)"
   ]
  },
  {
   "cell_type": "code",
   "execution_count": 4,
   "id": "b607ed45",
   "metadata": {},
   "outputs": [
    {
     "data": {
      "text/plain": [
       "AnnData object with n_obs × n_vars = 5589 × 3058\n",
       "    obs: 'type', 'sample', 'batch', 'n_genes_by_counts', 'total_counts', 'total_counts_mt', 'pct_counts_mt', 'total_counts_ribo', 'pct_counts_ribo', 'total_counts_hb', 'pct_counts_hb', 'percent_mt2', 'n_counts', 'n_genes', 'percent_chrY', 'XIST-counts', 'S_score', 'G2M_score', 'phase', 'doublet_scores', 'predicted_doublets', 'doublet_info'\n",
       "    var: 'gene_ids', 'feature_types', 'genome', 'mt', 'ribo', 'hb', 'n_cells_by_counts', 'mean_counts', 'pct_dropout_by_counts', 'total_counts', 'n_cells', 'highly_variable', 'means', 'dispersions', 'dispersions_norm', 'mean', 'std'\n",
       "    uns: 'doublet_info_colors', 'hvg', 'log1p', 'neighbors', 'pca', 'sample_colors', 'tsne', 'umap'\n",
       "    obsm: 'Scanorama', 'X_pca', 'X_tsne', 'X_umap'\n",
       "    varm: 'PCs'\n",
       "    obsp: 'connectivities', 'distances'"
      ]
     },
     "execution_count": 4,
     "metadata": {},
     "output_type": "execute_result"
    }
   ],
   "source": [
    "adata"
   ]
  },
  {
   "cell_type": "markdown",
   "id": "91fa4984",
   "metadata": {},
   "source": [
    "### 1. Graph clustering"
   ]
  },
  {
   "cell_type": "markdown",
   "id": "a2c84e2b",
   "metadata": {},
   "source": [
    "### 1.1 Leiden"
   ]
  },
  {
   "cell_type": "code",
   "execution_count": null,
   "id": "b268d824",
   "metadata": {},
   "outputs": [],
   "source": [
    "sc.tl.leiden(adata, key_added = \"leiden_1.0\") # default resolution in 1.0\n",
    "sc.tl.leiden(adata, resolution = 0.6, key_added = \"leiden_0.6\")\n",
    "sc.tl.leiden(adata, resolution = 0.4, key_added = \"leiden_0.4\")\n",
    "sc.tl.leiden(adata, resolution = 1.4, key_added = \"leiden_1.4\")"
   ]
  }
 ],
 "metadata": {
  "kernelspec": {
   "display_name": "Python 3 (ipykernel)",
   "language": "python",
   "name": "python3"
  },
  "language_info": {
   "codemirror_mode": {
    "name": "ipython",
    "version": 3
   },
   "file_extension": ".py",
   "mimetype": "text/x-python",
   "name": "python",
   "nbconvert_exporter": "python",
   "pygments_lexer": "ipython3",
   "version": "3.9.12"
  }
 },
 "nbformat": 4,
 "nbformat_minor": 5
}
