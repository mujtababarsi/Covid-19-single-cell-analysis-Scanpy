{
 "cells": [
  {
   "cell_type": "markdown",
   "id": "175a65f6",
   "metadata": {},
   "source": [
    "### Quality control"
   ]
  },
  {
   "cell_type": "code",
   "execution_count": 1,
   "id": "1dc2e40a",
   "metadata": {},
   "outputs": [],
   "source": [
    "import numpy as np\n",
    "import pandas as pd\n",
    "import scanpy as sc\n",
    "\n",
    "\n",
    "sc.settings.verbosity = 3 "
   ]
  },
  {
   "cell_type": "code",
   "execution_count": 2,
   "id": "f95bf980",
   "metadata": {},
   "outputs": [],
   "source": [
    "sc.settings.set_figure_params(dpi=80)"
   ]
  },
  {
   "cell_type": "markdown",
   "id": "e33a8d52",
   "metadata": {},
   "source": [
    "#### 1,Read the data"
   ]
  },
  {
   "cell_type": "code",
   "execution_count": 3,
   "id": "2b873e96",
   "metadata": {},
   "outputs": [
    {
     "name": "stdout",
     "output_type": "stream",
     "text": [
      "reading ./data/raw/nCoV_PBMC_1.h5\n",
      " (0:00:00)\n"
     ]
    },
    {
     "name": "stderr",
     "output_type": "stream",
     "text": [
      "C:\\Users\\Mujtaba Barci\\anaconda3\\lib\\site-packages\\scanpy\\readwrite.py:281: FutureWarning: X.dtype being converted to np.float32 from float64. In the next version of anndata (0.9) conversion will not be automatic. Pass dtype explicitly to avoid this warning. Pass `AnnData(X, dtype=X.dtype, ...)` to get the future behavour.\n",
      "  adata = AnnData(\n",
      "C:\\Users\\Mujtaba Barci\\anaconda3\\lib\\site-packages\\anndata\\_core\\anndata.py:1830: UserWarning: Variable names are not unique. To make them unique, call `.var_names_make_unique`.\n",
      "  utils.warn_names_duplicates(\"var\")\n"
     ]
    },
    {
     "name": "stdout",
     "output_type": "stream",
     "text": [
      "reading ./data/raw/nCoV_PBMC_15.h5\n",
      " (0:00:00)\n",
      "reading ./data/raw/nCoV_PBMC_17.h5\n"
     ]
    },
    {
     "name": "stderr",
     "output_type": "stream",
     "text": [
      "C:\\Users\\Mujtaba Barci\\anaconda3\\lib\\site-packages\\scanpy\\readwrite.py:281: FutureWarning: X.dtype being converted to np.float32 from float64. In the next version of anndata (0.9) conversion will not be automatic. Pass dtype explicitly to avoid this warning. Pass `AnnData(X, dtype=X.dtype, ...)` to get the future behavour.\n",
      "  adata = AnnData(\n",
      "C:\\Users\\Mujtaba Barci\\anaconda3\\lib\\site-packages\\anndata\\_core\\anndata.py:1830: UserWarning: Variable names are not unique. To make them unique, call `.var_names_make_unique`.\n",
      "  utils.warn_names_duplicates(\"var\")\n"
     ]
    },
    {
     "name": "stdout",
     "output_type": "stream",
     "text": [
      " (0:00:00)\n",
      "reading ./data/raw/Normal_PBMC_5.h5\n"
     ]
    },
    {
     "name": "stderr",
     "output_type": "stream",
     "text": [
      "C:\\Users\\Mujtaba Barci\\anaconda3\\lib\\site-packages\\scanpy\\readwrite.py:281: FutureWarning: X.dtype being converted to np.float32 from float64. In the next version of anndata (0.9) conversion will not be automatic. Pass dtype explicitly to avoid this warning. Pass `AnnData(X, dtype=X.dtype, ...)` to get the future behavour.\n",
      "  adata = AnnData(\n",
      "C:\\Users\\Mujtaba Barci\\anaconda3\\lib\\site-packages\\anndata\\_core\\anndata.py:1830: UserWarning: Variable names are not unique. To make them unique, call `.var_names_make_unique`.\n",
      "  utils.warn_names_duplicates(\"var\")\n"
     ]
    },
    {
     "name": "stdout",
     "output_type": "stream",
     "text": [
      " (0:00:00)\n",
      "reading ./data/raw/Normal_PBMC_13.h5\n"
     ]
    },
    {
     "name": "stderr",
     "output_type": "stream",
     "text": [
      "C:\\Users\\Mujtaba Barci\\anaconda3\\lib\\site-packages\\scanpy\\readwrite.py:281: FutureWarning: X.dtype being converted to np.float32 from float64. In the next version of anndata (0.9) conversion will not be automatic. Pass dtype explicitly to avoid this warning. Pass `AnnData(X, dtype=X.dtype, ...)` to get the future behavour.\n",
      "  adata = AnnData(\n",
      "C:\\Users\\Mujtaba Barci\\anaconda3\\lib\\site-packages\\anndata\\_core\\anndata.py:1830: UserWarning: Variable names are not unique. To make them unique, call `.var_names_make_unique`.\n",
      "  utils.warn_names_duplicates(\"var\")\n"
     ]
    },
    {
     "name": "stdout",
     "output_type": "stream",
     "text": [
      " (0:00:00)\n",
      "reading ./data/raw/Normal_PBMC_14.h5\n"
     ]
    },
    {
     "name": "stderr",
     "output_type": "stream",
     "text": [
      "C:\\Users\\Mujtaba Barci\\anaconda3\\lib\\site-packages\\scanpy\\readwrite.py:281: FutureWarning: X.dtype being converted to np.float32 from float64. In the next version of anndata (0.9) conversion will not be automatic. Pass dtype explicitly to avoid this warning. Pass `AnnData(X, dtype=X.dtype, ...)` to get the future behavour.\n",
      "  adata = AnnData(\n",
      "C:\\Users\\Mujtaba Barci\\anaconda3\\lib\\site-packages\\anndata\\_core\\anndata.py:1830: UserWarning: Variable names are not unique. To make them unique, call `.var_names_make_unique`.\n",
      "  utils.warn_names_duplicates(\"var\")\n"
     ]
    },
    {
     "name": "stdout",
     "output_type": "stream",
     "text": [
      " (0:00:00)\n"
     ]
    },
    {
     "name": "stderr",
     "output_type": "stream",
     "text": [
      "C:\\Users\\Mujtaba Barci\\anaconda3\\lib\\site-packages\\scanpy\\readwrite.py:281: FutureWarning: X.dtype being converted to np.float32 from float64. In the next version of anndata (0.9) conversion will not be automatic. Pass dtype explicitly to avoid this warning. Pass `AnnData(X, dtype=X.dtype, ...)` to get the future behavour.\n",
      "  adata = AnnData(\n",
      "C:\\Users\\Mujtaba Barci\\anaconda3\\lib\\site-packages\\anndata\\_core\\anndata.py:1830: UserWarning: Variable names are not unique. To make them unique, call `.var_names_make_unique`.\n",
      "  utils.warn_names_duplicates(\"var\")\n"
     ]
    }
   ],
   "source": [
    "data_cov1 = sc.read_10x_h5('./data/raw/nCoV_PBMC_1.h5')\n",
    "data_cov1.var_names_make_unique()\n",
    "data_cov15 = sc.read_10x_h5('./data/raw/nCoV_PBMC_15.h5')\n",
    "data_cov15.var_names_make_unique()\n",
    "data_cov17 = sc.read_10x_h5('./data/raw/nCoV_PBMC_17.h5')\n",
    "data_cov17.var_names_make_unique()\n",
    "data_ctrl5 = sc.read_10x_h5('./data/raw/Normal_PBMC_5.h5')\n",
    "data_ctrl5.var_names_make_unique()\n",
    "data_ctrl13 = sc.read_10x_h5('./data/raw/Normal_PBMC_13.h5')\n",
    "data_ctrl13.var_names_make_unique()\n",
    "data_ctrl14 = sc.read_10x_h5('./data/raw/Normal_PBMC_14.h5')\n",
    "data_ctrl14.var_names_make_unique()"
   ]
  },
  {
   "cell_type": "markdown",
   "id": "46c7bdf6",
   "metadata": {},
   "source": [
    "#### 2.Create one merged object"
   ]
  },
  {
   "cell_type": "code",
   "execution_count": 4,
   "id": "e7c0e283",
   "metadata": {},
   "outputs": [],
   "source": [
    "data_cov1.obs['type']=\"Covid\"\n",
    "data_cov1.obs['sample']=\"covid_1\"\n",
    "data_cov15.obs['type']=\"Covid\"\n",
    "data_cov15.obs['sample']=\"covid_15\"\n",
    "data_cov17.obs['type']=\"Covid\"\n",
    "data_cov17.obs['sample']=\"covid_17\"\n",
    "data_ctrl5.obs['type']=\"Ctrl\"\n",
    "data_ctrl5.obs['sample']=\"ctrl_5\"\n",
    "data_ctrl13.obs['type']=\"Ctrl\"\n",
    "data_ctrl13.obs['sample']=\"ctrl_13\"\n",
    "data_ctrl14.obs['type']=\"Ctrl\"\n",
    "data_ctrl14.obs['sample']=\"ctrl_14\""
   ]
  },
  {
   "cell_type": "code",
   "execution_count": 5,
   "id": "0819f110",
   "metadata": {},
   "outputs": [
    {
     "name": "stderr",
     "output_type": "stream",
     "text": [
      "C:\\Users\\Mujtaba Barci\\anaconda3\\lib\\site-packages\\anndata\\_core\\anndata.py:1785: FutureWarning: X.dtype being converted to np.float32 from float64. In the next version of anndata (0.9) conversion will not be automatic. Pass dtype explicitly to avoid this warning. Pass `AnnData(X, dtype=X.dtype, ...)` to get the future behavour.\n",
      "  [AnnData(sparse.csr_matrix(a.shape), obs=a.obs) for a in all_adatas],\n"
     ]
    }
   ],
   "source": [
    "# merge into one object.\n",
    "adata = data_cov1.concatenate(data_cov15, data_cov17, data_ctrl5, data_ctrl13, data_ctrl14)\n"
   ]
  },
  {
   "cell_type": "code",
   "execution_count": 6,
   "id": "fa4bea01",
   "metadata": {},
   "outputs": [],
   "source": [
    "# and delete individual datasets to save space\n",
    "del(data_cov1, data_cov15, data_cov17)\n",
    "del(data_ctrl5, data_ctrl13, data_ctrl14)"
   ]
  },
  {
   "cell_type": "code",
   "execution_count": 7,
   "id": "ff53e86a",
   "metadata": {},
   "outputs": [
    {
     "name": "stdout",
     "output_type": "stream",
     "text": [
      "covid_1     1500\n",
      "covid_15    1500\n",
      "covid_17    1500\n",
      "ctrl_5      1500\n",
      "ctrl_13     1500\n",
      "ctrl_14     1500\n",
      "Name: sample, dtype: int64\n"
     ]
    },
    {
     "data": {
      "text/plain": [
       "AnnData object with n_obs × n_vars = 9000 × 33538\n",
       "    obs: 'type', 'sample', 'batch'\n",
       "    var: 'gene_ids', 'feature_types', 'genome'"
      ]
     },
     "execution_count": 7,
     "metadata": {},
     "output_type": "execute_result"
    }
   ],
   "source": [
    "print(adata.obs['sample'].value_counts())\n",
    "adata"
   ]
  },
  {
   "cell_type": "markdown",
   "id": "5e968b2c",
   "metadata": {},
   "source": [
    "#### Calculate QC"
   ]
  },
  {
   "cell_type": "code",
   "execution_count": 8,
   "id": "8a77b280",
   "metadata": {},
   "outputs": [
    {
     "data": {
      "text/html": [
       "<div>\n",
       "<style scoped>\n",
       "    .dataframe tbody tr th:only-of-type {\n",
       "        vertical-align: middle;\n",
       "    }\n",
       "\n",
       "    .dataframe tbody tr th {\n",
       "        vertical-align: top;\n",
       "    }\n",
       "\n",
       "    .dataframe thead th {\n",
       "        text-align: right;\n",
       "    }\n",
       "</style>\n",
       "<table border=\"1\" class=\"dataframe\">\n",
       "  <thead>\n",
       "    <tr style=\"text-align: right;\">\n",
       "      <th></th>\n",
       "      <th>gene_ids</th>\n",
       "      <th>feature_types</th>\n",
       "      <th>genome</th>\n",
       "      <th>mt</th>\n",
       "      <th>ribo</th>\n",
       "      <th>hb</th>\n",
       "    </tr>\n",
       "  </thead>\n",
       "  <tbody>\n",
       "    <tr>\n",
       "      <th>MIR1302-2HG</th>\n",
       "      <td>ENSG00000243485</td>\n",
       "      <td>Gene Expression</td>\n",
       "      <td>GRCh38</td>\n",
       "      <td>False</td>\n",
       "      <td>False</td>\n",
       "      <td>False</td>\n",
       "    </tr>\n",
       "    <tr>\n",
       "      <th>FAM138A</th>\n",
       "      <td>ENSG00000237613</td>\n",
       "      <td>Gene Expression</td>\n",
       "      <td>GRCh38</td>\n",
       "      <td>False</td>\n",
       "      <td>False</td>\n",
       "      <td>False</td>\n",
       "    </tr>\n",
       "    <tr>\n",
       "      <th>OR4F5</th>\n",
       "      <td>ENSG00000186092</td>\n",
       "      <td>Gene Expression</td>\n",
       "      <td>GRCh38</td>\n",
       "      <td>False</td>\n",
       "      <td>False</td>\n",
       "      <td>False</td>\n",
       "    </tr>\n",
       "    <tr>\n",
       "      <th>AL627309.1</th>\n",
       "      <td>ENSG00000238009</td>\n",
       "      <td>Gene Expression</td>\n",
       "      <td>GRCh38</td>\n",
       "      <td>False</td>\n",
       "      <td>False</td>\n",
       "      <td>False</td>\n",
       "    </tr>\n",
       "    <tr>\n",
       "      <th>AL627309.3</th>\n",
       "      <td>ENSG00000239945</td>\n",
       "      <td>Gene Expression</td>\n",
       "      <td>GRCh38</td>\n",
       "      <td>False</td>\n",
       "      <td>False</td>\n",
       "      <td>False</td>\n",
       "    </tr>\n",
       "    <tr>\n",
       "      <th>...</th>\n",
       "      <td>...</td>\n",
       "      <td>...</td>\n",
       "      <td>...</td>\n",
       "      <td>...</td>\n",
       "      <td>...</td>\n",
       "      <td>...</td>\n",
       "    </tr>\n",
       "    <tr>\n",
       "      <th>AC233755.2</th>\n",
       "      <td>ENSG00000277856</td>\n",
       "      <td>Gene Expression</td>\n",
       "      <td>GRCh38</td>\n",
       "      <td>False</td>\n",
       "      <td>False</td>\n",
       "      <td>False</td>\n",
       "    </tr>\n",
       "    <tr>\n",
       "      <th>AC233755.1</th>\n",
       "      <td>ENSG00000275063</td>\n",
       "      <td>Gene Expression</td>\n",
       "      <td>GRCh38</td>\n",
       "      <td>False</td>\n",
       "      <td>False</td>\n",
       "      <td>False</td>\n",
       "    </tr>\n",
       "    <tr>\n",
       "      <th>AC240274.1</th>\n",
       "      <td>ENSG00000271254</td>\n",
       "      <td>Gene Expression</td>\n",
       "      <td>GRCh38</td>\n",
       "      <td>False</td>\n",
       "      <td>False</td>\n",
       "      <td>False</td>\n",
       "    </tr>\n",
       "    <tr>\n",
       "      <th>AC213203.1</th>\n",
       "      <td>ENSG00000277475</td>\n",
       "      <td>Gene Expression</td>\n",
       "      <td>GRCh38</td>\n",
       "      <td>False</td>\n",
       "      <td>False</td>\n",
       "      <td>False</td>\n",
       "    </tr>\n",
       "    <tr>\n",
       "      <th>FAM231C</th>\n",
       "      <td>ENSG00000268674</td>\n",
       "      <td>Gene Expression</td>\n",
       "      <td>GRCh38</td>\n",
       "      <td>False</td>\n",
       "      <td>False</td>\n",
       "      <td>False</td>\n",
       "    </tr>\n",
       "  </tbody>\n",
       "</table>\n",
       "<p>33538 rows × 6 columns</p>\n",
       "</div>"
      ],
      "text/plain": [
       "                    gene_ids    feature_types  genome     mt   ribo     hb\n",
       "MIR1302-2HG  ENSG00000243485  Gene Expression  GRCh38  False  False  False\n",
       "FAM138A      ENSG00000237613  Gene Expression  GRCh38  False  False  False\n",
       "OR4F5        ENSG00000186092  Gene Expression  GRCh38  False  False  False\n",
       "AL627309.1   ENSG00000238009  Gene Expression  GRCh38  False  False  False\n",
       "AL627309.3   ENSG00000239945  Gene Expression  GRCh38  False  False  False\n",
       "...                      ...              ...     ...    ...    ...    ...\n",
       "AC233755.2   ENSG00000277856  Gene Expression  GRCh38  False  False  False\n",
       "AC233755.1   ENSG00000275063  Gene Expression  GRCh38  False  False  False\n",
       "AC240274.1   ENSG00000271254  Gene Expression  GRCh38  False  False  False\n",
       "AC213203.1   ENSG00000277475  Gene Expression  GRCh38  False  False  False\n",
       "FAM231C      ENSG00000268674  Gene Expression  GRCh38  False  False  False\n",
       "\n",
       "[33538 rows x 6 columns]"
      ]
     },
     "execution_count": 8,
     "metadata": {},
     "output_type": "execute_result"
    }
   ],
   "source": [
    "# mitochondrial genes\n",
    "adata.var['mt'] = adata.var_names.str.startswith('MT-') \n",
    "# ribosomal genes\n",
    "adata.var['ribo'] = adata.var_names.str.startswith((\"RPS\",\"RPL\"))\n",
    "# hemoglobin genes.\n",
    "adata.var['hb'] = adata.var_names.str.contains((\"^HB[^(P)]\"))\n",
    "\n",
    "adata.var\n"
   ]
  },
  {
   "cell_type": "code",
   "execution_count": null,
   "id": "59465bb2",
   "metadata": {},
   "outputs": [],
   "source": []
  }
 ],
 "metadata": {
  "kernelspec": {
   "display_name": "Python 3 (ipykernel)",
   "language": "python",
   "name": "python3"
  },
  "language_info": {
   "codemirror_mode": {
    "name": "ipython",
    "version": 3
   },
   "file_extension": ".py",
   "mimetype": "text/x-python",
   "name": "python",
   "nbconvert_exporter": "python",
   "pygments_lexer": "ipython3",
   "version": "3.9.12"
  }
 },
 "nbformat": 4,
 "nbformat_minor": 5
}
