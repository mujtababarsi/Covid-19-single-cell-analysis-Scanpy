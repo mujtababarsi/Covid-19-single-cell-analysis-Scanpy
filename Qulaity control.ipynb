{
 "cells": [
  {
   "cell_type": "markdown",
   "id": "175a65f6",
   "metadata": {},
   "source": [
    "### Quality control"
   ]
  },
  {
   "cell_type": "code",
   "execution_count": 2,
   "id": "1dc2e40a",
   "metadata": {},
   "outputs": [],
   "source": [
    "import numpy as np\n",
    "import pandas as pd\n",
    "import scanpy as sc\n",
    "\n",
    "\n",
    "sc.settings.verbosity = 3 "
   ]
  },
  {
   "cell_type": "code",
   "execution_count": 3,
   "id": "f95bf980",
   "metadata": {},
   "outputs": [],
   "source": [
    "sc.settings.set_figure_params(dpi=80)"
   ]
  },
  {
   "cell_type": "markdown",
   "id": "e33a8d52",
   "metadata": {},
   "source": [
    "#### 1,Read the data"
   ]
  },
  {
   "cell_type": "code",
   "execution_count": 4,
   "id": "2b873e96",
   "metadata": {},
   "outputs": [
    {
     "name": "stdout",
     "output_type": "stream",
     "text": [
      "reading ./data/raw/nCoV_PBMC_1.h5\n",
      " (0:00:00)\n"
     ]
    },
    {
     "name": "stderr",
     "output_type": "stream",
     "text": [
      "C:\\Users\\Mujtaba Barci\\anaconda3\\lib\\site-packages\\scanpy\\readwrite.py:281: FutureWarning: X.dtype being converted to np.float32 from float64. In the next version of anndata (0.9) conversion will not be automatic. Pass dtype explicitly to avoid this warning. Pass `AnnData(X, dtype=X.dtype, ...)` to get the future behavour.\n",
      "  adata = AnnData(\n",
      "C:\\Users\\Mujtaba Barci\\anaconda3\\lib\\site-packages\\anndata\\_core\\anndata.py:1830: UserWarning: Variable names are not unique. To make them unique, call `.var_names_make_unique`.\n",
      "  utils.warn_names_duplicates(\"var\")\n"
     ]
    },
    {
     "name": "stdout",
     "output_type": "stream",
     "text": [
      "reading ./data/raw/nCoV_PBMC_15.h5\n",
      " (0:00:00)\n",
      "reading ./data/raw/nCoV_PBMC_17.h5\n"
     ]
    },
    {
     "name": "stderr",
     "output_type": "stream",
     "text": [
      "C:\\Users\\Mujtaba Barci\\anaconda3\\lib\\site-packages\\scanpy\\readwrite.py:281: FutureWarning: X.dtype being converted to np.float32 from float64. In the next version of anndata (0.9) conversion will not be automatic. Pass dtype explicitly to avoid this warning. Pass `AnnData(X, dtype=X.dtype, ...)` to get the future behavour.\n",
      "  adata = AnnData(\n",
      "C:\\Users\\Mujtaba Barci\\anaconda3\\lib\\site-packages\\anndata\\_core\\anndata.py:1830: UserWarning: Variable names are not unique. To make them unique, call `.var_names_make_unique`.\n",
      "  utils.warn_names_duplicates(\"var\")\n"
     ]
    },
    {
     "name": "stdout",
     "output_type": "stream",
     "text": [
      " (0:00:00)\n",
      "reading ./data/raw/Normal_PBMC_5.h5\n"
     ]
    },
    {
     "name": "stderr",
     "output_type": "stream",
     "text": [
      "C:\\Users\\Mujtaba Barci\\anaconda3\\lib\\site-packages\\scanpy\\readwrite.py:281: FutureWarning: X.dtype being converted to np.float32 from float64. In the next version of anndata (0.9) conversion will not be automatic. Pass dtype explicitly to avoid this warning. Pass `AnnData(X, dtype=X.dtype, ...)` to get the future behavour.\n",
      "  adata = AnnData(\n",
      "C:\\Users\\Mujtaba Barci\\anaconda3\\lib\\site-packages\\anndata\\_core\\anndata.py:1830: UserWarning: Variable names are not unique. To make them unique, call `.var_names_make_unique`.\n",
      "  utils.warn_names_duplicates(\"var\")\n"
     ]
    },
    {
     "name": "stdout",
     "output_type": "stream",
     "text": [
      " (0:00:00)\n",
      "reading ./data/raw/Normal_PBMC_13.h5\n"
     ]
    },
    {
     "name": "stderr",
     "output_type": "stream",
     "text": [
      "C:\\Users\\Mujtaba Barci\\anaconda3\\lib\\site-packages\\scanpy\\readwrite.py:281: FutureWarning: X.dtype being converted to np.float32 from float64. In the next version of anndata (0.9) conversion will not be automatic. Pass dtype explicitly to avoid this warning. Pass `AnnData(X, dtype=X.dtype, ...)` to get the future behavour.\n",
      "  adata = AnnData(\n",
      "C:\\Users\\Mujtaba Barci\\anaconda3\\lib\\site-packages\\anndata\\_core\\anndata.py:1830: UserWarning: Variable names are not unique. To make them unique, call `.var_names_make_unique`.\n",
      "  utils.warn_names_duplicates(\"var\")\n"
     ]
    },
    {
     "name": "stdout",
     "output_type": "stream",
     "text": [
      " (0:00:00)\n",
      "reading ./data/raw/Normal_PBMC_14.h5\n"
     ]
    },
    {
     "name": "stderr",
     "output_type": "stream",
     "text": [
      "C:\\Users\\Mujtaba Barci\\anaconda3\\lib\\site-packages\\scanpy\\readwrite.py:281: FutureWarning: X.dtype being converted to np.float32 from float64. In the next version of anndata (0.9) conversion will not be automatic. Pass dtype explicitly to avoid this warning. Pass `AnnData(X, dtype=X.dtype, ...)` to get the future behavour.\n",
      "  adata = AnnData(\n",
      "C:\\Users\\Mujtaba Barci\\anaconda3\\lib\\site-packages\\anndata\\_core\\anndata.py:1830: UserWarning: Variable names are not unique. To make them unique, call `.var_names_make_unique`.\n",
      "  utils.warn_names_duplicates(\"var\")\n"
     ]
    },
    {
     "name": "stdout",
     "output_type": "stream",
     "text": [
      " (0:00:00)\n"
     ]
    },
    {
     "name": "stderr",
     "output_type": "stream",
     "text": [
      "C:\\Users\\Mujtaba Barci\\anaconda3\\lib\\site-packages\\scanpy\\readwrite.py:281: FutureWarning: X.dtype being converted to np.float32 from float64. In the next version of anndata (0.9) conversion will not be automatic. Pass dtype explicitly to avoid this warning. Pass `AnnData(X, dtype=X.dtype, ...)` to get the future behavour.\n",
      "  adata = AnnData(\n",
      "C:\\Users\\Mujtaba Barci\\anaconda3\\lib\\site-packages\\anndata\\_core\\anndata.py:1830: UserWarning: Variable names are not unique. To make them unique, call `.var_names_make_unique`.\n",
      "  utils.warn_names_duplicates(\"var\")\n"
     ]
    }
   ],
   "source": [
    "data_cov1 = sc.read_10x_h5('./data/raw/nCoV_PBMC_1.h5')\n",
    "data_cov1.var_names_make_unique()\n",
    "data_cov15 = sc.read_10x_h5('./data/raw/nCoV_PBMC_15.h5')\n",
    "data_cov15.var_names_make_unique()\n",
    "data_cov17 = sc.read_10x_h5('./data/raw/nCoV_PBMC_17.h5')\n",
    "data_cov17.var_names_make_unique()\n",
    "data_ctrl5 = sc.read_10x_h5('./data/raw/Normal_PBMC_5.h5')\n",
    "data_ctrl5.var_names_make_unique()\n",
    "data_ctrl13 = sc.read_10x_h5('./data/raw/Normal_PBMC_13.h5')\n",
    "data_ctrl13.var_names_make_unique()\n",
    "data_ctrl14 = sc.read_10x_h5('./data/raw/Normal_PBMC_14.h5')\n",
    "data_ctrl14.var_names_make_unique()"
   ]
  },
  {
   "cell_type": "markdown",
   "id": "46c7bdf6",
   "metadata": {},
   "source": [
    "#### 2.Create one merged object"
   ]
  },
  {
   "cell_type": "code",
   "execution_count": 6,
   "id": "e7c0e283",
   "metadata": {},
   "outputs": [],
   "source": [
    "data_cov1.obs['type']=\"Covid\"\n",
    "data_cov1.obs['sample']=\"covid_1\"\n",
    "data_cov15.obs['type']=\"Covid\"\n",
    "data_cov15.obs['sample']=\"covid_15\"\n",
    "data_cov17.obs['type']=\"Covid\"\n",
    "data_cov17.obs['sample']=\"covid_17\"\n",
    "data_ctrl5.obs['type']=\"Ctrl\"\n",
    "data_ctrl5.obs['sample']=\"ctrl_5\"\n",
    "data_ctrl13.obs['type']=\"Ctrl\"\n",
    "data_ctrl13.obs['sample']=\"ctrl_13\"\n",
    "data_ctrl14.obs['type']=\"Ctrl\"\n",
    "data_ctrl14.obs['sample']=\"ctrl_14\""
   ]
  },
  {
   "cell_type": "code",
   "execution_count": 7,
   "id": "0819f110",
   "metadata": {},
   "outputs": [
    {
     "name": "stderr",
     "output_type": "stream",
     "text": [
      "C:\\Users\\Mujtaba Barci\\anaconda3\\lib\\site-packages\\anndata\\_core\\anndata.py:1785: FutureWarning: X.dtype being converted to np.float32 from float64. In the next version of anndata (0.9) conversion will not be automatic. Pass dtype explicitly to avoid this warning. Pass `AnnData(X, dtype=X.dtype, ...)` to get the future behavour.\n",
      "  [AnnData(sparse.csr_matrix(a.shape), obs=a.obs) for a in all_adatas],\n"
     ]
    }
   ],
   "source": [
    "# merge into one object.\n",
    "adata = data_cov1.concatenate(data_cov15, data_cov17, data_ctrl5, data_ctrl13, data_ctrl14)\n"
   ]
  },
  {
   "cell_type": "code",
   "execution_count": 8,
   "id": "fa4bea01",
   "metadata": {},
   "outputs": [],
   "source": [
    "# and delete individual datasets to save space\n",
    "del(data_cov1, data_cov15, data_cov17)\n",
    "del(data_ctrl5, data_ctrl13, data_ctrl14)"
   ]
  },
  {
   "cell_type": "code",
   "execution_count": 10,
   "id": "ff53e86a",
   "metadata": {},
   "outputs": [
    {
     "name": "stdout",
     "output_type": "stream",
     "text": [
      "covid_1     1500\n",
      "covid_15    1500\n",
      "covid_17    1500\n",
      "ctrl_5      1500\n",
      "ctrl_13     1500\n",
      "ctrl_14     1500\n",
      "Name: sample, dtype: int64\n"
     ]
    },
    {
     "data": {
      "text/plain": [
       "AnnData object with n_obs × n_vars = 9000 × 33538\n",
       "    obs: 'type', 'sample', 'batch'\n",
       "    var: 'gene_ids', 'feature_types', 'genome'"
      ]
     },
     "execution_count": 10,
     "metadata": {},
     "output_type": "execute_result"
    }
   ],
   "source": [
    "print(adata.obs['sample'].value_counts())\n",
    "adata"
   ]
  },
  {
   "cell_type": "markdown",
   "id": "5e968b2c",
   "metadata": {},
   "source": [
    "#### Calculate QC"
   ]
  },
  {
   "cell_type": "code",
   "execution_count": null,
   "id": "8a77b280",
   "metadata": {},
   "outputs": [],
   "source": []
  }
 ],
 "metadata": {
  "kernelspec": {
   "display_name": "Python 3 (ipykernel)",
   "language": "python",
   "name": "python3"
  },
  "language_info": {
   "codemirror_mode": {
    "name": "ipython",
    "version": 3
   },
   "file_extension": ".py",
   "mimetype": "text/x-python",
   "name": "python",
   "nbconvert_exporter": "python",
   "pygments_lexer": "ipython3",
   "version": "3.9.12"
  }
 },
 "nbformat": 4,
 "nbformat_minor": 5
}
