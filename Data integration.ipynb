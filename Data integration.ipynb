{
 "cells": [
  {
   "cell_type": "code",
   "execution_count": 1,
   "id": "bec3ebec",
   "metadata": {},
   "outputs": [],
   "source": [
    "import numpy as np\n",
    "import pandas as pd\n",
    "import scanpy as sc\n",
    "import matplotlib.pyplot as plt\n",
    "\n",
    "sc.settings.verbosity = 3             \n",
    "\n",
    "sc.settings.set_figure_params(dpi=80)\n",
    "%matplotlib inline"
   ]
  },
  {
   "cell_type": "code",
   "execution_count": 2,
   "id": "296e58e4",
   "metadata": {},
   "outputs": [],
   "source": [
    "# Load the stored data object\n",
    "save_file = './data/results/scanpy_dr_covid.h5ad'\n",
    "adata = sc.read_h5ad(save_file)\n"
   ]
  },
  {
   "cell_type": "code",
   "execution_count": 3,
   "id": "f524ccca",
   "metadata": {},
   "outputs": [
    {
     "name": "stdout",
     "output_type": "stream",
     "text": [
      "(5589, 3058)\n"
     ]
    }
   ],
   "source": [
    "print(adata.X.shape)"
   ]
  },
  {
   "cell_type": "code",
   "execution_count": 4,
   "id": "ad341d33",
   "metadata": {},
   "outputs": [],
   "source": [
    "adata2 = adata.raw.to_adata() "
   ]
  },
  {
   "cell_type": "code",
   "execution_count": 5,
   "id": "43dfd9e0",
   "metadata": {},
   "outputs": [
    {
     "data": {
      "text/plain": [
       "AnnData object with n_obs × n_vars = 5589 × 18752\n",
       "    obs: 'type', 'sample', 'batch', 'n_genes_by_counts', 'total_counts', 'total_counts_mt', 'pct_counts_mt', 'total_counts_ribo', 'pct_counts_ribo', 'total_counts_hb', 'pct_counts_hb', 'percent_mt2', 'n_counts', 'n_genes', 'percent_chrY', 'XIST-counts', 'S_score', 'G2M_score', 'phase', 'doublet_scores', 'predicted_doublets', 'doublet_info'\n",
       "    var: 'gene_ids', 'feature_types', 'genome', 'mt', 'ribo', 'hb', 'n_cells_by_counts', 'mean_counts', 'pct_dropout_by_counts', 'total_counts', 'n_cells'\n",
       "    uns: 'doublet_info_colors', 'hvg', 'log1p', 'neighbors', 'pca', 'sample_colors', 'tsne', 'umap'\n",
       "    obsm: 'X_pca', 'X_tsne', 'X_umap'\n",
       "    obsp: 'connectivities', 'distances'"
      ]
     },
     "execution_count": 5,
     "metadata": {},
     "output_type": "execute_result"
    }
   ],
   "source": [
    "adata2"
   ]
  },
  {
   "cell_type": "code",
   "execution_count": 6,
   "id": "ac200ec1",
   "metadata": {},
   "outputs": [
    {
     "name": "stdout",
     "output_type": "stream",
     "text": [
      "  (0, 5)\t0.9678403\n",
      "  (1, 5)\t0.5124039\n"
     ]
    }
   ],
   "source": [
    "print(adata2.X[1:10,1:10])\n"
   ]
  },
  {
   "cell_type": "markdown",
   "id": "9b65e352",
   "metadata": {},
   "source": [
    "### 1. Detect variable genes "
   ]
  },
  {
   "cell_type": "code",
   "execution_count": 7,
   "id": "e82f4946",
   "metadata": {
    "scrolled": true
   },
   "outputs": [
    {
     "name": "stdout",
     "output_type": "stream",
     "text": [
      "Highly variable genes: 3058\n"
     ]
    }
   ],
   "source": [
    "var_genes_all = adata.var.highly_variable\n",
    "\n",
    "print(\"Highly variable genes: %d\"%sum(var_genes_all))"
   ]
  },
  {
   "cell_type": "markdown",
   "id": "3a7c5430",
   "metadata": {},
   "source": [
    "### 2. Data integration"
   ]
  },
  {
   "cell_type": "code",
   "execution_count": 12,
   "id": "58480b6d",
   "metadata": {},
   "outputs": [
    {
     "data": {
      "text/plain": [
       "{'covid_1': View of AnnData object with n_obs × n_vars = 855 × 18752\n",
       "     obs: 'type', 'sample', 'batch', 'n_genes_by_counts', 'total_counts', 'total_counts_mt', 'pct_counts_mt', 'total_counts_ribo', 'pct_counts_ribo', 'total_counts_hb', 'pct_counts_hb', 'percent_mt2', 'n_counts', 'n_genes', 'percent_chrY', 'XIST-counts', 'S_score', 'G2M_score', 'phase', 'doublet_scores', 'predicted_doublets', 'doublet_info'\n",
       "     var: 'gene_ids', 'feature_types', 'genome', 'mt', 'ribo', 'hb', 'n_cells_by_counts', 'mean_counts', 'pct_dropout_by_counts', 'total_counts', 'n_cells'\n",
       "     uns: 'doublet_info_colors', 'hvg', 'log1p', 'neighbors', 'pca', 'sample_colors', 'tsne', 'umap'\n",
       "     obsm: 'X_pca', 'X_tsne', 'X_umap'\n",
       "     obsp: 'connectivities', 'distances',\n",
       " 'covid_15': View of AnnData object with n_obs × n_vars = 582 × 18752\n",
       "     obs: 'type', 'sample', 'batch', 'n_genes_by_counts', 'total_counts', 'total_counts_mt', 'pct_counts_mt', 'total_counts_ribo', 'pct_counts_ribo', 'total_counts_hb', 'pct_counts_hb', 'percent_mt2', 'n_counts', 'n_genes', 'percent_chrY', 'XIST-counts', 'S_score', 'G2M_score', 'phase', 'doublet_scores', 'predicted_doublets', 'doublet_info'\n",
       "     var: 'gene_ids', 'feature_types', 'genome', 'mt', 'ribo', 'hb', 'n_cells_by_counts', 'mean_counts', 'pct_dropout_by_counts', 'total_counts', 'n_cells'\n",
       "     uns: 'doublet_info_colors', 'hvg', 'log1p', 'neighbors', 'pca', 'sample_colors', 'tsne', 'umap'\n",
       "     obsm: 'X_pca', 'X_tsne', 'X_umap'\n",
       "     obsp: 'connectivities', 'distances',\n",
       " 'covid_17': View of AnnData object with n_obs × n_vars = 1027 × 18752\n",
       "     obs: 'type', 'sample', 'batch', 'n_genes_by_counts', 'total_counts', 'total_counts_mt', 'pct_counts_mt', 'total_counts_ribo', 'pct_counts_ribo', 'total_counts_hb', 'pct_counts_hb', 'percent_mt2', 'n_counts', 'n_genes', 'percent_chrY', 'XIST-counts', 'S_score', 'G2M_score', 'phase', 'doublet_scores', 'predicted_doublets', 'doublet_info'\n",
       "     var: 'gene_ids', 'feature_types', 'genome', 'mt', 'ribo', 'hb', 'n_cells_by_counts', 'mean_counts', 'pct_dropout_by_counts', 'total_counts', 'n_cells'\n",
       "     uns: 'doublet_info_colors', 'hvg', 'log1p', 'neighbors', 'pca', 'sample_colors', 'tsne', 'umap'\n",
       "     obsm: 'X_pca', 'X_tsne', 'X_umap'\n",
       "     obsp: 'connectivities', 'distances',\n",
       " 'ctrl_5': View of AnnData object with n_obs × n_vars = 1017 × 18752\n",
       "     obs: 'type', 'sample', 'batch', 'n_genes_by_counts', 'total_counts', 'total_counts_mt', 'pct_counts_mt', 'total_counts_ribo', 'pct_counts_ribo', 'total_counts_hb', 'pct_counts_hb', 'percent_mt2', 'n_counts', 'n_genes', 'percent_chrY', 'XIST-counts', 'S_score', 'G2M_score', 'phase', 'doublet_scores', 'predicted_doublets', 'doublet_info'\n",
       "     var: 'gene_ids', 'feature_types', 'genome', 'mt', 'ribo', 'hb', 'n_cells_by_counts', 'mean_counts', 'pct_dropout_by_counts', 'total_counts', 'n_cells'\n",
       "     uns: 'doublet_info_colors', 'hvg', 'log1p', 'neighbors', 'pca', 'sample_colors', 'tsne', 'umap'\n",
       "     obsm: 'X_pca', 'X_tsne', 'X_umap'\n",
       "     obsp: 'connectivities', 'distances',\n",
       " 'ctrl_13': View of AnnData object with n_obs × n_vars = 1126 × 18752\n",
       "     obs: 'type', 'sample', 'batch', 'n_genes_by_counts', 'total_counts', 'total_counts_mt', 'pct_counts_mt', 'total_counts_ribo', 'pct_counts_ribo', 'total_counts_hb', 'pct_counts_hb', 'percent_mt2', 'n_counts', 'n_genes', 'percent_chrY', 'XIST-counts', 'S_score', 'G2M_score', 'phase', 'doublet_scores', 'predicted_doublets', 'doublet_info'\n",
       "     var: 'gene_ids', 'feature_types', 'genome', 'mt', 'ribo', 'hb', 'n_cells_by_counts', 'mean_counts', 'pct_dropout_by_counts', 'total_counts', 'n_cells'\n",
       "     uns: 'doublet_info_colors', 'hvg', 'log1p', 'neighbors', 'pca', 'sample_colors', 'tsne', 'umap'\n",
       "     obsm: 'X_pca', 'X_tsne', 'X_umap'\n",
       "     obsp: 'connectivities', 'distances',\n",
       " 'ctrl_14': View of AnnData object with n_obs × n_vars = 982 × 18752\n",
       "     obs: 'type', 'sample', 'batch', 'n_genes_by_counts', 'total_counts', 'total_counts_mt', 'pct_counts_mt', 'total_counts_ribo', 'pct_counts_ribo', 'total_counts_hb', 'pct_counts_hb', 'percent_mt2', 'n_counts', 'n_genes', 'percent_chrY', 'XIST-counts', 'S_score', 'G2M_score', 'phase', 'doublet_scores', 'predicted_doublets', 'doublet_info'\n",
       "     var: 'gene_ids', 'feature_types', 'genome', 'mt', 'ribo', 'hb', 'n_cells_by_counts', 'mean_counts', 'pct_dropout_by_counts', 'total_counts', 'n_cells'\n",
       "     uns: 'doublet_info_colors', 'hvg', 'log1p', 'neighbors', 'pca', 'sample_colors', 'tsne', 'umap'\n",
       "     obsm: 'X_pca', 'X_tsne', 'X_umap'\n",
       "     obsp: 'connectivities', 'distances'}"
      ]
     },
     "execution_count": 12,
     "metadata": {},
     "output_type": "execute_result"
    }
   ],
   "source": [
    "# split per batch into new objects.\n",
    "batches = adata.obs['sample'].cat.categories.tolist()\n",
    "alldata = {}\n",
    "for batch in batches:\n",
    "    alldata[batch] = adata2[adata2.obs['sample'] == batch,]\n",
    "\n",
    "alldata    "
   ]
  },
  {
   "cell_type": "code",
   "execution_count": 13,
   "id": "567b7de8",
   "metadata": {},
   "outputs": [
    {
     "ename": "NameError",
     "evalue": "name 'var_genes' is not defined",
     "output_type": "error",
     "traceback": [
      "\u001b[1;31m---------------------------------------------------------------------------\u001b[0m",
      "\u001b[1;31mNameError\u001b[0m                                 Traceback (most recent call last)",
      "Input \u001b[1;32mIn [13]\u001b[0m, in \u001b[0;36m<cell line: 1>\u001b[1;34m()\u001b[0m\n\u001b[0;32m      1\u001b[0m cdata \u001b[38;5;241m=\u001b[39m sc\u001b[38;5;241m.\u001b[39mexternal\u001b[38;5;241m.\u001b[39mpp\u001b[38;5;241m.\u001b[39mmnn_correct(alldata[\u001b[38;5;124m'\u001b[39m\u001b[38;5;124mcovid_1\u001b[39m\u001b[38;5;124m'\u001b[39m],alldata[\u001b[38;5;124m'\u001b[39m\u001b[38;5;124mcovid_15\u001b[39m\u001b[38;5;124m'\u001b[39m],alldata[\u001b[38;5;124m'\u001b[39m\u001b[38;5;124mcovid_17\u001b[39m\u001b[38;5;124m'\u001b[39m],\n\u001b[0;32m      2\u001b[0m                                    alldata[\u001b[38;5;124m'\u001b[39m\u001b[38;5;124mctrl_5\u001b[39m\u001b[38;5;124m'\u001b[39m],alldata[\u001b[38;5;124m'\u001b[39m\u001b[38;5;124mctrl_13\u001b[39m\u001b[38;5;124m'\u001b[39m],alldata[\u001b[38;5;124m'\u001b[39m\u001b[38;5;124mctrl_14\u001b[39m\u001b[38;5;124m'\u001b[39m], \n\u001b[1;32m----> 3\u001b[0m                                    svd_dim \u001b[38;5;241m=\u001b[39m \u001b[38;5;241m50\u001b[39m, batch_key \u001b[38;5;241m=\u001b[39m \u001b[38;5;124m'\u001b[39m\u001b[38;5;124msample\u001b[39m\u001b[38;5;124m'\u001b[39m, save_raw \u001b[38;5;241m=\u001b[39m \u001b[38;5;28;01mTrue\u001b[39;00m, var_subset \u001b[38;5;241m=\u001b[39m \u001b[43mvar_genes\u001b[49m)\n",
      "\u001b[1;31mNameError\u001b[0m: name 'var_genes' is not defined"
     ]
    }
   ],
   "source": [
    "cdata = sc.external.pp.mnn_correct(alldata['covid_1'],alldata['covid_15'],alldata['covid_17'],\n",
    "                                   alldata['ctrl_5'],alldata['ctrl_13'],alldata['ctrl_14'], \n",
    "                                   svd_dim = 50, batch_key = 'sample', save_raw = True, var_subset = var_genes)"
   ]
  },
  {
   "cell_type": "code",
   "execution_count": null,
   "id": "738cb87a",
   "metadata": {},
   "outputs": [],
   "source": []
  }
 ],
 "metadata": {
  "kernelspec": {
   "display_name": "Python 3 (ipykernel)",
   "language": "python",
   "name": "python3"
  },
  "language_info": {
   "codemirror_mode": {
    "name": "ipython",
    "version": 3
   },
   "file_extension": ".py",
   "mimetype": "text/x-python",
   "name": "python",
   "nbconvert_exporter": "python",
   "pygments_lexer": "ipython3",
   "version": "3.9.12"
  }
 },
 "nbformat": 4,
 "nbformat_minor": 5
}
