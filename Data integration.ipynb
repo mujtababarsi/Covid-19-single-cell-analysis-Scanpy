{
 "cells": [
  {
   "cell_type": "code",
   "execution_count": 1,
   "id": "20260730",
   "metadata": {},
   "outputs": [],
   "source": [
    "import numpy as np\n",
    "import pandas as pd\n",
    "import scanpy as sc\n",
    "import matplotlib.pyplot as plt\n",
    "\n",
    "sc.settings.verbosity = 3             # verbosity: errors (0), warnings (1), info (2), hints (3)\n",
    "#sc.logging.print_versions()\n",
    "\n",
    "sc.settings.set_figure_params(dpi=80)\n",
    "%matplotlib inline"
   ]
  },
  {
   "cell_type": "code",
   "execution_count": 2,
   "id": "fdf69ce5",
   "metadata": {},
   "outputs": [],
   "source": [
    "# Load the stored data object\n",
    "save_file = './data/results/scanpy_dr_covid.h5ad'\n",
    "adata = sc.read_h5ad(save_file)"
   ]
  },
  {
   "cell_type": "code",
   "execution_count": 3,
   "id": "7754ff68",
   "metadata": {},
   "outputs": [
    {
     "name": "stdout",
     "output_type": "stream",
     "text": [
      "(5589, 3058)\n"
     ]
    }
   ],
   "source": [
    "print(adata.X.shape)"
   ]
  },
  {
   "cell_type": "code",
   "execution_count": 4,
   "id": "3d6bd76c",
   "metadata": {},
   "outputs": [
    {
     "name": "stdout",
     "output_type": "stream",
     "text": [
      "  (0, 5)\t0.9678403\n",
      "  (1, 5)\t0.5124039\n"
     ]
    }
   ],
   "source": [
    "adata2 = adata.raw.to_adata() \n",
    "\n",
    "# check that the matrix looks like noramlized counts\n",
    "print(adata2.X[1:10,1:10])"
   ]
  },
  {
   "cell_type": "markdown",
   "id": "2a0797be",
   "metadata": {},
   "source": [
    "### 1. Detect variable genes "
   ]
  },
  {
   "cell_type": "code",
   "execution_count": 5,
   "id": "3659ba48",
   "metadata": {
    "scrolled": true
   },
   "outputs": [
    {
     "name": "stdout",
     "output_type": "stream",
     "text": [
      "Highly variable genes: 3058\n"
     ]
    }
   ],
   "source": [
    "var_genes_all = adata.var.highly_variable\n",
    "\n",
    "print(\"Highly variable genes: %d\"%sum(var_genes_all))"
   ]
  },
  {
   "cell_type": "code",
   "execution_count": 7,
   "id": "0432b9f4",
   "metadata": {},
   "outputs": [
    {
     "name": "stdout",
     "output_type": "stream",
     "text": [
      "WARNING: adata.X seems to be already log-transformed.\n"
     ]
    }
   ],
   "source": [
    "sc.pp.log1p(adata2)"
   ]
  },
  {
   "cell_type": "code",
   "execution_count": 8,
   "id": "9f4ca06f",
   "metadata": {
    "scrolled": true
   },
   "outputs": [
    {
     "name": "stdout",
     "output_type": "stream",
     "text": [
      "extracting highly variable genes\n"
     ]
    },
    {
     "name": "stderr",
     "output_type": "stream",
     "text": [
      "C:\\Users\\Mujtaba Barci\\anaconda3\\lib\\site-packages\\scanpy\\preprocessing\\_highly_variable_genes.py:478: FutureWarning: The frame.append method is deprecated and will be removed from pandas in a future version. Use pandas.concat instead.\n",
      "  hvg = hvg.append(missing_hvg, ignore_index=True)\n",
      "C:\\Users\\Mujtaba Barci\\anaconda3\\lib\\site-packages\\scanpy\\preprocessing\\_highly_variable_genes.py:478: FutureWarning: The frame.append method is deprecated and will be removed from pandas in a future version. Use pandas.concat instead.\n",
      "  hvg = hvg.append(missing_hvg, ignore_index=True)\n",
      "C:\\Users\\Mujtaba Barci\\anaconda3\\lib\\site-packages\\scanpy\\preprocessing\\_highly_variable_genes.py:478: FutureWarning: The frame.append method is deprecated and will be removed from pandas in a future version. Use pandas.concat instead.\n",
      "  hvg = hvg.append(missing_hvg, ignore_index=True)\n",
      "C:\\Users\\Mujtaba Barci\\anaconda3\\lib\\site-packages\\scanpy\\preprocessing\\_highly_variable_genes.py:478: FutureWarning: The frame.append method is deprecated and will be removed from pandas in a future version. Use pandas.concat instead.\n",
      "  hvg = hvg.append(missing_hvg, ignore_index=True)\n",
      "C:\\Users\\Mujtaba Barci\\anaconda3\\lib\\site-packages\\scanpy\\preprocessing\\_highly_variable_genes.py:478: FutureWarning: The frame.append method is deprecated and will be removed from pandas in a future version. Use pandas.concat instead.\n",
      "  hvg = hvg.append(missing_hvg, ignore_index=True)\n"
     ]
    },
    {
     "name": "stdout",
     "output_type": "stream",
     "text": [
      "    finished (0:00:04)\n",
      "--> added\n",
      "    'highly_variable', boolean vector (adata.var)\n",
      "    'means', float vector (adata.var)\n",
      "    'dispersions', float vector (adata.var)\n",
      "    'dispersions_norm', float vector (adata.var)\n",
      "Highly variable genes intersection: 378\n",
      "Number of batches where gene is variable:\n",
      "0    12216\n",
      "1     3112\n",
      "2     1526\n",
      "3      787\n",
      "4      423\n",
      "6      378\n",
      "5      310\n",
      "Name: highly_variable_nbatches, dtype: int64\n"
     ]
    },
    {
     "name": "stderr",
     "output_type": "stream",
     "text": [
      "C:\\Users\\Mujtaba Barci\\anaconda3\\lib\\site-packages\\scanpy\\preprocessing\\_highly_variable_genes.py:478: FutureWarning: The frame.append method is deprecated and will be removed from pandas in a future version. Use pandas.concat instead.\n",
      "  hvg = hvg.append(missing_hvg, ignore_index=True)\n"
     ]
    }
   ],
   "source": [
    "sc.pp.highly_variable_genes(adata2, min_mean=0.0125, max_mean=3, min_disp=0.5, batch_key = 'sample')\n",
    "\n",
    "print(\"Highly variable genes intersection: %d\"%sum(adata2.var.highly_variable_intersection))\n",
    "\n",
    "print(\"Number of batches where gene is variable:\")\n",
    "print(adata2.var.highly_variable_nbatches.value_counts())\n",
    "\n",
    "var_genes_batch = adata2.var.highly_variable_nbatches > 0"
   ]
  },
  {
   "cell_type": "markdown",
   "id": "2c6f125a",
   "metadata": {},
   "source": [
    "### 2. Data integration"
   ]
  },
  {
   "cell_type": "code",
   "execution_count": null,
   "id": "e436547b",
   "metadata": {},
   "outputs": [],
   "source": [
    "# split per batch into new objects.\n",
    "batches = adata.obs['sample'].cat.categories.tolist()\n",
    "alldata = {}\n",
    "for batch in batches:\n",
    "    alldata[batch] = adata2[adata2.obs['sample'] == batch,]\n",
    "\n",
    "alldata    "
   ]
  },
  {
   "cell_type": "code",
   "execution_count": null,
   "id": "11b8163e",
   "metadata": {},
   "outputs": [],
   "source": []
  }
 ],
 "metadata": {
  "kernelspec": {
   "display_name": "Python 3 (ipykernel)",
   "language": "python",
   "name": "python3"
  },
  "language_info": {
   "codemirror_mode": {
    "name": "ipython",
    "version": 3
   },
   "file_extension": ".py",
   "mimetype": "text/x-python",
   "name": "python",
   "nbconvert_exporter": "python",
   "pygments_lexer": "ipython3",
   "version": "3.9.12"
  }
 },
 "nbformat": 4,
 "nbformat_minor": 5
}
