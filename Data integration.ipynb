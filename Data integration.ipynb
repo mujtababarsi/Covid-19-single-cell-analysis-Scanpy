{
 "cells": [
  {
   "cell_type": "code",
   "execution_count": 1,
   "id": "20260730",
   "metadata": {},
   "outputs": [],
   "source": [
    "import numpy as np\n",
    "import pandas as pd\n",
    "import scanpy as sc\n",
    "import matplotlib.pyplot as plt\n",
    "\n",
    "sc.settings.verbosity = 3             # verbosity: errors (0), warnings (1), info (2), hints (3)\n",
    "#sc.logging.print_versions()\n",
    "\n",
    "sc.settings.set_figure_params(dpi=80)\n",
    "%matplotlib inline"
   ]
  },
  {
   "cell_type": "code",
   "execution_count": 2,
   "id": "fdf69ce5",
   "metadata": {},
   "outputs": [],
   "source": [
    "# Load the stored data object\n",
    "save_file = './data/results/scanpy_dr_covid.h5ad'\n",
    "adata = sc.read_h5ad(save_file)"
   ]
  },
  {
   "cell_type": "code",
   "execution_count": 3,
   "id": "7754ff68",
   "metadata": {},
   "outputs": [
    {
     "name": "stdout",
     "output_type": "stream",
     "text": [
      "(5589, 3058)\n"
     ]
    }
   ],
   "source": [
    "print(adata.X.shape)"
   ]
  },
  {
   "cell_type": "code",
   "execution_count": 4,
   "id": "3d6bd76c",
   "metadata": {},
   "outputs": [
    {
     "name": "stdout",
     "output_type": "stream",
     "text": [
      "  (0, 5)\t0.9678403\n",
      "  (1, 5)\t0.5124039\n"
     ]
    }
   ],
   "source": [
    "adata2 = adata.raw.to_adata() \n",
    "\n",
    "# check that the matrix looks like noramlized counts\n",
    "print(adata2.X[1:10,1:10])"
   ]
  },
  {
   "cell_type": "markdown",
   "id": "2a0797be",
   "metadata": {},
   "source": [
    "### 1. Detect variable genes "
   ]
  },
  {
   "cell_type": "code",
   "execution_count": 5,
   "id": "3659ba48",
   "metadata": {
    "scrolled": true
   },
   "outputs": [
    {
     "name": "stdout",
     "output_type": "stream",
     "text": [
      "Highly variable genes: 3058\n"
     ]
    }
   ],
   "source": [
    "var_genes_all = adata.var.highly_variable\n",
    "\n",
    "print(\"Highly variable genes: %d\"%sum(var_genes_all))"
   ]
  },
  {
   "cell_type": "code",
   "execution_count": 6,
   "id": "74566f43",
   "metadata": {},
   "outputs": [
    {
     "name": "stdout",
     "output_type": "stream",
     "text": [
      "WARNING: adata.X seems to be already log-transformed.\n"
     ]
    }
   ],
   "source": [
    "sc.pp.log1p(adata2)"
   ]
  },
  {
   "cell_type": "code",
   "execution_count": 7,
   "id": "9f4ca06f",
   "metadata": {
    "scrolled": false
   },
   "outputs": [
    {
     "name": "stdout",
     "output_type": "stream",
     "text": [
      "extracting highly variable genes\n"
     ]
    },
    {
     "name": "stderr",
     "output_type": "stream",
     "text": [
      "C:\\Users\\Mujtaba Barci\\anaconda3\\lib\\site-packages\\scanpy\\preprocessing\\_highly_variable_genes.py:478: FutureWarning: The frame.append method is deprecated and will be removed from pandas in a future version. Use pandas.concat instead.\n",
      "  hvg = hvg.append(missing_hvg, ignore_index=True)\n",
      "C:\\Users\\Mujtaba Barci\\anaconda3\\lib\\site-packages\\scanpy\\preprocessing\\_highly_variable_genes.py:478: FutureWarning: The frame.append method is deprecated and will be removed from pandas in a future version. Use pandas.concat instead.\n",
      "  hvg = hvg.append(missing_hvg, ignore_index=True)\n",
      "C:\\Users\\Mujtaba Barci\\anaconda3\\lib\\site-packages\\scanpy\\preprocessing\\_highly_variable_genes.py:478: FutureWarning: The frame.append method is deprecated and will be removed from pandas in a future version. Use pandas.concat instead.\n",
      "  hvg = hvg.append(missing_hvg, ignore_index=True)\n",
      "C:\\Users\\Mujtaba Barci\\anaconda3\\lib\\site-packages\\scanpy\\preprocessing\\_highly_variable_genes.py:478: FutureWarning: The frame.append method is deprecated and will be removed from pandas in a future version. Use pandas.concat instead.\n",
      "  hvg = hvg.append(missing_hvg, ignore_index=True)\n",
      "C:\\Users\\Mujtaba Barci\\anaconda3\\lib\\site-packages\\scanpy\\preprocessing\\_highly_variable_genes.py:478: FutureWarning: The frame.append method is deprecated and will be removed from pandas in a future version. Use pandas.concat instead.\n",
      "  hvg = hvg.append(missing_hvg, ignore_index=True)\n"
     ]
    },
    {
     "name": "stdout",
     "output_type": "stream",
     "text": [
      "    finished (0:00:03)\n",
      "--> added\n",
      "    'highly_variable', boolean vector (adata.var)\n",
      "    'means', float vector (adata.var)\n",
      "    'dispersions', float vector (adata.var)\n",
      "    'dispersions_norm', float vector (adata.var)\n",
      "Highly variable genes intersection: 378\n",
      "Number of batches where gene is variable:\n",
      "0    12216\n",
      "1     3112\n",
      "2     1526\n",
      "3      787\n",
      "4      423\n",
      "6      378\n",
      "5      310\n",
      "Name: highly_variable_nbatches, dtype: int64\n"
     ]
    },
    {
     "name": "stderr",
     "output_type": "stream",
     "text": [
      "C:\\Users\\Mujtaba Barci\\anaconda3\\lib\\site-packages\\scanpy\\preprocessing\\_highly_variable_genes.py:478: FutureWarning: The frame.append method is deprecated and will be removed from pandas in a future version. Use pandas.concat instead.\n",
      "  hvg = hvg.append(missing_hvg, ignore_index=True)\n"
     ]
    }
   ],
   "source": [
    "sc.pp.highly_variable_genes(adata2, min_mean=0.0125, max_mean=3, min_disp=0.5, batch_key = 'sample')\n",
    "\n",
    "print(\"Highly variable genes intersection: %d\"%sum(adata2.var.highly_variable_intersection))\n",
    "\n",
    "print(\"Number of batches where gene is variable:\")\n",
    "print(adata2.var.highly_variable_nbatches.value_counts())\n",
    "\n",
    "var_genes_batch = adata2.var.highly_variable_nbatches > 0"
   ]
  },
  {
   "cell_type": "code",
   "execution_count": 8,
   "id": "b529dac9",
   "metadata": {},
   "outputs": [
    {
     "name": "stdout",
     "output_type": "stream",
     "text": [
      "Any batch var genes: 6536\n",
      "All data var genes: 3058\n",
      "Overlap: 2589\n",
      "Variable genes in all batches: 378\n",
      "Overlap batch instersection and all: 298\n"
     ]
    }
   ],
   "source": [
    "print(\"Any batch var genes: %d\"%sum(var_genes_batch))\n",
    "print(\"All data var genes: %d\"%sum(var_genes_all))\n",
    "print(\"Overlap: %d\"%sum(var_genes_batch & var_genes_all))\n",
    "print(\"Variable genes in all batches: %d\"%sum(adata2.var.highly_variable_nbatches == 6))\n",
    "print(\"Overlap batch instersection and all: %d\"%sum(var_genes_all & adata2.var.highly_variable_intersection))"
   ]
  },
  {
   "cell_type": "code",
   "execution_count": 9,
   "id": "af5c91c7",
   "metadata": {},
   "outputs": [
    {
     "data": {
      "text/plain": [
       "1898"
      ]
     },
     "execution_count": 9,
     "metadata": {},
     "output_type": "execute_result"
    }
   ],
   "source": [
    "var_select = adata2.var.highly_variable_nbatches > 2\n",
    "var_genes = var_select.index[var_select]\n",
    "len(var_genes)"
   ]
  },
  {
   "cell_type": "markdown",
   "id": "2c6f125a",
   "metadata": {},
   "source": [
    "### 2. Data integration"
   ]
  },
  {
   "cell_type": "code",
   "execution_count": 10,
   "id": "e436547b",
   "metadata": {},
   "outputs": [
    {
     "data": {
      "text/plain": [
       "{'covid_1': View of AnnData object with n_obs × n_vars = 855 × 18752\n",
       "     obs: 'type', 'sample', 'batch', 'n_genes_by_counts', 'total_counts', 'total_counts_mt', 'pct_counts_mt', 'total_counts_ribo', 'pct_counts_ribo', 'total_counts_hb', 'pct_counts_hb', 'percent_mt2', 'n_counts', 'n_genes', 'percent_chrY', 'XIST-counts', 'S_score', 'G2M_score', 'phase', 'doublet_scores', 'predicted_doublets', 'doublet_info'\n",
       "     var: 'gene_ids', 'feature_types', 'genome', 'mt', 'ribo', 'hb', 'n_cells_by_counts', 'mean_counts', 'pct_dropout_by_counts', 'total_counts', 'n_cells', 'highly_variable', 'means', 'dispersions', 'dispersions_norm', 'highly_variable_nbatches', 'highly_variable_intersection'\n",
       "     uns: 'doublet_info_colors', 'hvg', 'log1p', 'neighbors', 'pca', 'sample_colors', 'tsne', 'umap'\n",
       "     obsm: 'X_pca', 'X_tsne', 'X_umap'\n",
       "     obsp: 'connectivities', 'distances',\n",
       " 'covid_15': View of AnnData object with n_obs × n_vars = 582 × 18752\n",
       "     obs: 'type', 'sample', 'batch', 'n_genes_by_counts', 'total_counts', 'total_counts_mt', 'pct_counts_mt', 'total_counts_ribo', 'pct_counts_ribo', 'total_counts_hb', 'pct_counts_hb', 'percent_mt2', 'n_counts', 'n_genes', 'percent_chrY', 'XIST-counts', 'S_score', 'G2M_score', 'phase', 'doublet_scores', 'predicted_doublets', 'doublet_info'\n",
       "     var: 'gene_ids', 'feature_types', 'genome', 'mt', 'ribo', 'hb', 'n_cells_by_counts', 'mean_counts', 'pct_dropout_by_counts', 'total_counts', 'n_cells', 'highly_variable', 'means', 'dispersions', 'dispersions_norm', 'highly_variable_nbatches', 'highly_variable_intersection'\n",
       "     uns: 'doublet_info_colors', 'hvg', 'log1p', 'neighbors', 'pca', 'sample_colors', 'tsne', 'umap'\n",
       "     obsm: 'X_pca', 'X_tsne', 'X_umap'\n",
       "     obsp: 'connectivities', 'distances',\n",
       " 'covid_17': View of AnnData object with n_obs × n_vars = 1027 × 18752\n",
       "     obs: 'type', 'sample', 'batch', 'n_genes_by_counts', 'total_counts', 'total_counts_mt', 'pct_counts_mt', 'total_counts_ribo', 'pct_counts_ribo', 'total_counts_hb', 'pct_counts_hb', 'percent_mt2', 'n_counts', 'n_genes', 'percent_chrY', 'XIST-counts', 'S_score', 'G2M_score', 'phase', 'doublet_scores', 'predicted_doublets', 'doublet_info'\n",
       "     var: 'gene_ids', 'feature_types', 'genome', 'mt', 'ribo', 'hb', 'n_cells_by_counts', 'mean_counts', 'pct_dropout_by_counts', 'total_counts', 'n_cells', 'highly_variable', 'means', 'dispersions', 'dispersions_norm', 'highly_variable_nbatches', 'highly_variable_intersection'\n",
       "     uns: 'doublet_info_colors', 'hvg', 'log1p', 'neighbors', 'pca', 'sample_colors', 'tsne', 'umap'\n",
       "     obsm: 'X_pca', 'X_tsne', 'X_umap'\n",
       "     obsp: 'connectivities', 'distances',\n",
       " 'ctrl_5': View of AnnData object with n_obs × n_vars = 1017 × 18752\n",
       "     obs: 'type', 'sample', 'batch', 'n_genes_by_counts', 'total_counts', 'total_counts_mt', 'pct_counts_mt', 'total_counts_ribo', 'pct_counts_ribo', 'total_counts_hb', 'pct_counts_hb', 'percent_mt2', 'n_counts', 'n_genes', 'percent_chrY', 'XIST-counts', 'S_score', 'G2M_score', 'phase', 'doublet_scores', 'predicted_doublets', 'doublet_info'\n",
       "     var: 'gene_ids', 'feature_types', 'genome', 'mt', 'ribo', 'hb', 'n_cells_by_counts', 'mean_counts', 'pct_dropout_by_counts', 'total_counts', 'n_cells', 'highly_variable', 'means', 'dispersions', 'dispersions_norm', 'highly_variable_nbatches', 'highly_variable_intersection'\n",
       "     uns: 'doublet_info_colors', 'hvg', 'log1p', 'neighbors', 'pca', 'sample_colors', 'tsne', 'umap'\n",
       "     obsm: 'X_pca', 'X_tsne', 'X_umap'\n",
       "     obsp: 'connectivities', 'distances',\n",
       " 'ctrl_13': View of AnnData object with n_obs × n_vars = 1126 × 18752\n",
       "     obs: 'type', 'sample', 'batch', 'n_genes_by_counts', 'total_counts', 'total_counts_mt', 'pct_counts_mt', 'total_counts_ribo', 'pct_counts_ribo', 'total_counts_hb', 'pct_counts_hb', 'percent_mt2', 'n_counts', 'n_genes', 'percent_chrY', 'XIST-counts', 'S_score', 'G2M_score', 'phase', 'doublet_scores', 'predicted_doublets', 'doublet_info'\n",
       "     var: 'gene_ids', 'feature_types', 'genome', 'mt', 'ribo', 'hb', 'n_cells_by_counts', 'mean_counts', 'pct_dropout_by_counts', 'total_counts', 'n_cells', 'highly_variable', 'means', 'dispersions', 'dispersions_norm', 'highly_variable_nbatches', 'highly_variable_intersection'\n",
       "     uns: 'doublet_info_colors', 'hvg', 'log1p', 'neighbors', 'pca', 'sample_colors', 'tsne', 'umap'\n",
       "     obsm: 'X_pca', 'X_tsne', 'X_umap'\n",
       "     obsp: 'connectivities', 'distances',\n",
       " 'ctrl_14': View of AnnData object with n_obs × n_vars = 982 × 18752\n",
       "     obs: 'type', 'sample', 'batch', 'n_genes_by_counts', 'total_counts', 'total_counts_mt', 'pct_counts_mt', 'total_counts_ribo', 'pct_counts_ribo', 'total_counts_hb', 'pct_counts_hb', 'percent_mt2', 'n_counts', 'n_genes', 'percent_chrY', 'XIST-counts', 'S_score', 'G2M_score', 'phase', 'doublet_scores', 'predicted_doublets', 'doublet_info'\n",
       "     var: 'gene_ids', 'feature_types', 'genome', 'mt', 'ribo', 'hb', 'n_cells_by_counts', 'mean_counts', 'pct_dropout_by_counts', 'total_counts', 'n_cells', 'highly_variable', 'means', 'dispersions', 'dispersions_norm', 'highly_variable_nbatches', 'highly_variable_intersection'\n",
       "     uns: 'doublet_info_colors', 'hvg', 'log1p', 'neighbors', 'pca', 'sample_colors', 'tsne', 'umap'\n",
       "     obsm: 'X_pca', 'X_tsne', 'X_umap'\n",
       "     obsp: 'connectivities', 'distances'}"
      ]
     },
     "execution_count": 10,
     "metadata": {},
     "output_type": "execute_result"
    }
   ],
   "source": [
    "# split per batch into new objects.\n",
    "batches = adata.obs['sample'].cat.categories.tolist()\n",
    "alldata = {}\n",
    "for batch in batches:\n",
    "    alldata[batch] = adata2[adata2.obs['sample'] == batch,]\n",
    "\n",
    "alldata    "
   ]
  },
  {
   "cell_type": "code",
   "execution_count": 12,
   "id": "11b8163e",
   "metadata": {},
   "outputs": [
    {
     "name": "stderr",
     "output_type": "stream",
     "text": [
      "C:\\Users\\Mujtaba Barci\\anaconda3\\lib\\site-packages\\mnnpy\\utils.py:14: NumbaWarning: \u001b[1m\n",
      "Compilation is falling back to object mode WITH looplifting enabled because Function \"l2_norm\" failed type inference due to: \u001b[1m\u001b[1m\u001b[1mNo implementation of function Function(<function norm at 0x000001417F73C310>) found for signature:\n",
      " \n",
      " >>> norm(x=array(float32, 2d, A), axis=Literal[int](1))\n",
      " \n",
      "There are 2 candidate implementations:\n",
      "\u001b[1m  - Of which 2 did not match due to:\n",
      "  Overload in function 'norm_impl': File: numba\\np\\linalg.py: Line 2351.\n",
      "    With argument(s): '(x=array(float32, 2d, A), axis=int64)':\u001b[0m\n",
      "\u001b[1m   Rejected as the implementation raised a specific error:\n",
      "     TypingError: \u001b[1mmissing a required argument: 'a'\u001b[0m\u001b[0m\n",
      "  raised from C:\\Users\\Mujtaba Barci\\anaconda3\\lib\\site-packages\\numba\\core\\typing\\templates.py:791\n",
      "\u001b[0m\n",
      "\u001b[0m\u001b[1mDuring: resolving callee type: Function(<function norm at 0x000001417F73C310>)\u001b[0m\n",
      "\u001b[0m\u001b[1mDuring: typing of call at C:\\Users\\Mujtaba Barci\\anaconda3\\lib\\site-packages\\mnnpy\\utils.py (16)\n",
      "\u001b[0m\n",
      "\u001b[1m\n",
      "File \"..\\..\\..\\anaconda3\\lib\\site-packages\\mnnpy\\utils.py\", line 16:\u001b[0m\n",
      "\u001b[1mdef l2_norm(in_matrix):\n",
      "\u001b[1m    return np.linalg.norm(x=in_matrix, axis=1)\n",
      "\u001b[0m    \u001b[1m^\u001b[0m\u001b[0m\n",
      "\u001b[0m\n",
      "  @jit(float32[:](float32[:, :]), nogil=True)\n",
      "C:\\Users\\Mujtaba Barci\\anaconda3\\lib\\site-packages\\numba\\core\\object_mode_passes.py:151: NumbaWarning: \u001b[1mFunction \"l2_norm\" was compiled in object mode without forceobj=True.\n",
      "\u001b[1m\n",
      "File \"..\\..\\..\\anaconda3\\lib\\site-packages\\mnnpy\\utils.py\", line 15:\u001b[0m\n",
      "\u001b[1m@jit(float32[:](float32[:, :]), nogil=True)\n",
      "\u001b[1mdef l2_norm(in_matrix):\n",
      "\u001b[0m\u001b[1m^\u001b[0m\u001b[0m\n",
      "\u001b[0m\n",
      "  warnings.warn(errors.NumbaWarning(warn_msg,\n",
      "C:\\Users\\Mujtaba Barci\\anaconda3\\lib\\site-packages\\numba\\core\\object_mode_passes.py:161: NumbaDeprecationWarning: \u001b[1m\n",
      "Fall-back from the nopython compilation path to the object mode compilation path has been detected, this is deprecated behaviour.\n",
      "\n",
      "For more information visit https://numba.readthedocs.io/en/stable/reference/deprecation.html#deprecation-of-object-mode-fall-back-behaviour-when-using-jit\n",
      "\u001b[1m\n",
      "File \"..\\..\\..\\anaconda3\\lib\\site-packages\\mnnpy\\utils.py\", line 15:\u001b[0m\n",
      "\u001b[1m@jit(float32[:](float32[:, :]), nogil=True)\n",
      "\u001b[1mdef l2_norm(in_matrix):\n",
      "\u001b[0m\u001b[1m^\u001b[0m\u001b[0m\n",
      "\u001b[0m\n",
      "  warnings.warn(errors.NumbaDeprecationWarning(msg,\n",
      "C:\\Users\\Mujtaba Barci\\anaconda3\\lib\\site-packages\\mnnpy\\utils.py:14: NumbaWarning: \u001b[1mCode running in object mode won't allow parallel execution despite nogil=True.\u001b[0m\n",
      "  @jit(float32[:](float32[:, :]), nogil=True)\n",
      "C:\\Users\\Mujtaba Barci\\anaconda3\\lib\\site-packages\\mnnpy\\utils.py:29: NumbaPerformanceWarning: \u001b[1m\u001b[1m\u001b[1mnp.dot() is faster on contiguous arrays, called on (array(float32, 1d, A), array(float32, 1d, A))\u001b[0m\u001b[0m\u001b[0m\n",
      "  dist[i, j] = np.dot(m[i], n[j])\n",
      "C:\\Users\\Mujtaba Barci\\anaconda3\\lib\\site-packages\\mnnpy\\utils.py:88: NumbaWarning: \u001b[1m\n",
      "Compilation is falling back to object mode WITH looplifting enabled because Function \"find_mutual_nn\" failed type inference due to: \u001b[1mUntyped global name 'cKDTree':\u001b[0m \u001b[1m\u001b[1mCannot determine Numba type of <class 'type'>\u001b[0m\n",
      "\u001b[1m\n",
      "File \"..\\..\\..\\anaconda3\\lib\\site-packages\\mnnpy\\utils.py\", line 90:\u001b[0m\n",
      "\u001b[1mdef find_mutual_nn(data1, data2, k1, k2, n_jobs):\n",
      "\u001b[1m    k_index_1 = cKDTree(data1).query(x=data2, k=k1, n_jobs=n_jobs)[1]\n",
      "\u001b[0m    \u001b[1m^\u001b[0m\u001b[0m\n",
      "\u001b[0m\u001b[0m\n",
      "  @jit((float32[:, :], float32[:, :], int8, int8, int8))\n",
      "C:\\Users\\Mujtaba Barci\\anaconda3\\lib\\site-packages\\mnnpy\\utils.py:88: NumbaWarning: \u001b[1m\n",
      "Compilation is falling back to object mode WITHOUT looplifting enabled because Function \"find_mutual_nn\" failed type inference due to: \u001b[1mUntyped global name 'cKDTree':\u001b[0m \u001b[1m\u001b[1mCannot determine Numba type of <class 'type'>\u001b[0m\n",
      "\u001b[1m\n",
      "File \"..\\..\\..\\anaconda3\\lib\\site-packages\\mnnpy\\utils.py\", line 90:\u001b[0m\n",
      "\u001b[1mdef find_mutual_nn(data1, data2, k1, k2, n_jobs):\n",
      "\u001b[1m    k_index_1 = cKDTree(data1).query(x=data2, k=k1, n_jobs=n_jobs)[1]\n",
      "\u001b[0m    \u001b[1m^\u001b[0m\u001b[0m\n",
      "\u001b[0m\u001b[0m\n",
      "  @jit((float32[:, :], float32[:, :], int8, int8, int8))\n",
      "C:\\Users\\Mujtaba Barci\\anaconda3\\lib\\site-packages\\numba\\core\\object_mode_passes.py:151: NumbaWarning: \u001b[1mFunction \"find_mutual_nn\" was compiled in object mode without forceobj=True, but has lifted loops.\n",
      "\u001b[1m\n",
      "File \"..\\..\\..\\anaconda3\\lib\\site-packages\\mnnpy\\utils.py\", line 90:\u001b[0m\n",
      "\u001b[1mdef find_mutual_nn(data1, data2, k1, k2, n_jobs):\n",
      "\u001b[1m    k_index_1 = cKDTree(data1).query(x=data2, k=k1, n_jobs=n_jobs)[1]\n",
      "\u001b[0m    \u001b[1m^\u001b[0m\u001b[0m\n",
      "\u001b[0m\n",
      "  warnings.warn(errors.NumbaWarning(warn_msg,\n",
      "C:\\Users\\Mujtaba Barci\\anaconda3\\lib\\site-packages\\numba\\core\\object_mode_passes.py:161: NumbaDeprecationWarning: \u001b[1m\n",
      "Fall-back from the nopython compilation path to the object mode compilation path has been detected, this is deprecated behaviour.\n",
      "\n",
      "For more information visit https://numba.readthedocs.io/en/stable/reference/deprecation.html#deprecation-of-object-mode-fall-back-behaviour-when-using-jit\n",
      "\u001b[1m\n",
      "File \"..\\..\\..\\anaconda3\\lib\\site-packages\\mnnpy\\utils.py\", line 90:\u001b[0m\n",
      "\u001b[1mdef find_mutual_nn(data1, data2, k1, k2, n_jobs):\n",
      "\u001b[1m    k_index_1 = cKDTree(data1).query(x=data2, k=k1, n_jobs=n_jobs)[1]\n",
      "\u001b[0m    \u001b[1m^\u001b[0m\u001b[0m\n",
      "\u001b[0m\n",
      "  warnings.warn(errors.NumbaDeprecationWarning(msg,\n",
      "C:\\Users\\Mujtaba Barci\\anaconda3\\lib\\site-packages\\mnnpy\\utils.py:102: NumbaWarning: \u001b[1m\n",
      "Compilation is falling back to object mode WITH looplifting enabled because Function \"compute_correction\" failed type inference due to: \u001b[1m\u001b[1m\u001b[1mNo implementation of function Function(<function unique at 0x000001417F7BA670>) found for signature:\n",
      " \n",
      " >>> unique(array(int32, 1d, A), return_counts=Literal[bool](True))\n",
      " \n",
      "There are 2 candidate implementations:\n",
      "\u001b[1m  - Of which 2 did not match due to:\n",
      "  Overload in function 'np_unique': File: numba\\np\\arrayobj.py: Line 2088.\n",
      "    With argument(s): '(array(int32, 1d, A), return_counts=bool)':\u001b[0m\n",
      "\u001b[1m   Rejected as the implementation raised a specific error:\n",
      "     TypingError: \u001b[1mgot an unexpected keyword argument 'return_counts'\u001b[0m\u001b[0m\n",
      "  raised from C:\\Users\\Mujtaba Barci\\anaconda3\\lib\\site-packages\\numba\\core\\typing\\templates.py:791\n",
      "\u001b[0m\n",
      "\u001b[0m\u001b[1mDuring: resolving callee type: Function(<function unique at 0x000001417F7BA670>)\u001b[0m\n",
      "\u001b[0m\u001b[1mDuring: typing of call at C:\\Users\\Mujtaba Barci\\anaconda3\\lib\\site-packages\\mnnpy\\utils.py (105)\n",
      "\u001b[0m\n",
      "\u001b[1m\n",
      "File \"..\\..\\..\\anaconda3\\lib\\site-packages\\mnnpy\\utils.py\", line 105:\u001b[0m\n",
      "\u001b[1mdef compute_correction(data1, data2, mnn1, mnn2, data2_or_raw2, sigma):\n",
      "    <source elided>\n",
      "    vect = data1[mnn1] - data2[mnn2]\n",
      "\u001b[1m    mnn_index, mnn_count = np.unique(mnn2, return_counts=True)\n",
      "\u001b[0m    \u001b[1m^\u001b[0m\u001b[0m\n",
      "\u001b[0m\n",
      "  @jit(float32[:, :](float32[:, :], float32[:, :], int32[:], int32[:], float32[:, :], float32))\n",
      "C:\\Users\\Mujtaba Barci\\anaconda3\\lib\\site-packages\\mnnpy\\utils.py:102: NumbaWarning: \u001b[1m\n",
      "Compilation is falling back to object mode WITHOUT looplifting enabled because Function \"compute_correction\" failed type inference due to: \u001b[1m\u001b[1mCannot determine Numba type of <class 'numba.core.dispatcher.LiftedLoop'>\u001b[0m\n",
      "\u001b[1m\n",
      "File \"..\\..\\..\\anaconda3\\lib\\site-packages\\mnnpy\\utils.py\", line 107:\u001b[0m\n",
      "\u001b[1mdef compute_correction(data1, data2, mnn1, mnn2, data2_or_raw2, sigma):\n",
      "    <source elided>\n",
      "    vect_reduced = np.zeros((data2.shape[0], vect.shape[1]), dtype=np.float32)\n",
      "\u001b[1m    for index, ve in zip(mnn2, vect):\n",
      "\u001b[0m    \u001b[1m^\u001b[0m\u001b[0m\n",
      "\u001b[0m\u001b[0m\n",
      "  @jit(float32[:, :](float32[:, :], float32[:, :], int32[:], int32[:], float32[:, :], float32))\n",
      "C:\\Users\\Mujtaba Barci\\anaconda3\\lib\\site-packages\\numba\\core\\object_mode_passes.py:151: NumbaWarning: \u001b[1mFunction \"compute_correction\" was compiled in object mode without forceobj=True, but has lifted loops.\n",
      "\u001b[1m\n",
      "File \"..\\..\\..\\anaconda3\\lib\\site-packages\\mnnpy\\utils.py\", line 104:\u001b[0m\n",
      "\u001b[1mdef compute_correction(data1, data2, mnn1, mnn2, data2_or_raw2, sigma):\n",
      "\u001b[1m    vect = data1[mnn1] - data2[mnn2]\n",
      "\u001b[0m    \u001b[1m^\u001b[0m\u001b[0m\n",
      "\u001b[0m\n",
      "  warnings.warn(errors.NumbaWarning(warn_msg,\n",
      "C:\\Users\\Mujtaba Barci\\anaconda3\\lib\\site-packages\\numba\\core\\object_mode_passes.py:161: NumbaDeprecationWarning: \u001b[1m\n",
      "Fall-back from the nopython compilation path to the object mode compilation path has been detected, this is deprecated behaviour.\n",
      "\n",
      "For more information visit https://numba.readthedocs.io/en/stable/reference/deprecation.html#deprecation-of-object-mode-fall-back-behaviour-when-using-jit\n",
      "\u001b[1m\n",
      "File \"..\\..\\..\\anaconda3\\lib\\site-packages\\mnnpy\\utils.py\", line 104:\u001b[0m\n",
      "\u001b[1mdef compute_correction(data1, data2, mnn1, mnn2, data2_or_raw2, sigma):\n",
      "\u001b[1m    vect = data1[mnn1] - data2[mnn2]\n",
      "\u001b[0m    \u001b[1m^\u001b[0m\u001b[0m\n",
      "\u001b[0m\n",
      "  warnings.warn(errors.NumbaDeprecationWarning(msg,\n"
     ]
    },
    {
     "name": "stderr",
     "output_type": "stream",
     "text": [
      "C:\\Users\\Mujtaba Barci\\anaconda3\\lib\\site-packages\\mnnpy\\utils.py:199: NumbaWarning: \u001b[1m\n",
      "Compilation is falling back to object mode WITH looplifting enabled because Function \"adjust_s_variance\" failed type inference due to: \u001b[1mNameError: name 'sq_dist_to_line' is not defined\u001b[0m\u001b[0m\n",
      "  @jit(float32(float32[:, :], float32[:, :], float32[:], float32[:], float32), nogil=True)\n",
      "C:\\Users\\Mujtaba Barci\\anaconda3\\lib\\site-packages\\mnnpy\\utils.py:199: NumbaWarning: \u001b[1m\n",
      "Compilation is falling back to object mode WITHOUT looplifting enabled because Function \"adjust_s_variance\" failed type inference due to: \u001b[1m\u001b[1mCannot determine Numba type of <class 'numba.core.dispatcher.LiftedLoop'>\u001b[0m\n",
      "\u001b[1m\n",
      "File \"..\\..\\..\\anaconda3\\lib\\site-packages\\mnnpy\\utils.py\", line 207:\u001b[0m\n",
      "\u001b[1mdef adjust_s_variance(data1, data2, curcell, curvect, sigma):\n",
      "    <source elided>\n",
      "    totalprob2 = 0.\n",
      "\u001b[1m    for samecell in data2:\n",
      "\u001b[0m    \u001b[1m^\u001b[0m\u001b[0m\n",
      "\u001b[0m\u001b[0m\n",
      "  @jit(float32(float32[:, :], float32[:, :], float32[:], float32[:], float32), nogil=True)\n",
      "C:\\Users\\Mujtaba Barci\\anaconda3\\lib\\site-packages\\numba\\core\\object_mode_passes.py:151: NumbaWarning: \u001b[1mFunction \"adjust_s_variance\" was compiled in object mode without forceobj=True, but has lifted loops.\n",
      "\u001b[1m\n",
      "File \"..\\..\\..\\anaconda3\\lib\\site-packages\\mnnpy\\utils.py\", line 201:\u001b[0m\n",
      "\u001b[1mdef adjust_s_variance(data1, data2, curcell, curvect, sigma):\n",
      "\u001b[1m    distance1 = np.zeros((data1.shape[0], 2), dtype=np.float32)\n",
      "\u001b[0m    \u001b[1m^\u001b[0m\u001b[0m\n",
      "\u001b[0m\n",
      "  warnings.warn(errors.NumbaWarning(warn_msg,\n",
      "C:\\Users\\Mujtaba Barci\\anaconda3\\lib\\site-packages\\numba\\core\\object_mode_passes.py:161: NumbaDeprecationWarning: \u001b[1m\n",
      "Fall-back from the nopython compilation path to the object mode compilation path has been detected, this is deprecated behaviour.\n",
      "\n",
      "For more information visit https://numba.readthedocs.io/en/stable/reference/deprecation.html#deprecation-of-object-mode-fall-back-behaviour-when-using-jit\n",
      "\u001b[1m\n",
      "File \"..\\..\\..\\anaconda3\\lib\\site-packages\\mnnpy\\utils.py\", line 201:\u001b[0m\n",
      "\u001b[1mdef adjust_s_variance(data1, data2, curcell, curvect, sigma):\n",
      "\u001b[1m    distance1 = np.zeros((data1.shape[0], 2), dtype=np.float32)\n",
      "\u001b[0m    \u001b[1m^\u001b[0m\u001b[0m\n",
      "\u001b[0m\n",
      "  warnings.warn(errors.NumbaDeprecationWarning(msg,\n",
      "C:\\Users\\Mujtaba Barci\\anaconda3\\lib\\site-packages\\mnnpy\\utils.py:199: NumbaWarning: \u001b[1mCode running in object mode won't allow parallel execution despite nogil=True.\u001b[0m\n",
      "  @jit(float32(float32[:, :], float32[:, :], float32[:], float32[:], float32), nogil=True)\n",
      "C:\\Users\\Mujtaba Barci\\anaconda3\\lib\\site-packages\\mnnpy\\utils.py:238: NumbaPerformanceWarning: \u001b[1m\u001b[1m\u001b[1mnp.dot() is faster on contiguous arrays, called on (array(float32, 1d, C), array(float32, 1d, A))\u001b[0m\u001b[0m\u001b[0m\n",
      "  scale = np.dot(working, grad)\n"
     ]
    },
    {
     "name": "stdout",
     "output_type": "stream",
     "text": [
      "Performing cosine normalization...\n",
      "Starting MNN correct iteration. Reference batch: 0\n",
      "Step 1 of 5: processing batch 1\n",
      "  Looking for MNNs...\n"
     ]
    },
    {
     "name": "stderr",
     "output_type": "stream",
     "text": [
      "C:\\Users\\Mujtaba Barci\\anaconda3\\lib\\site-packages\\mnnpy\\utils.py:88: NumbaWarning: \u001b[1m\n",
      "Compilation is falling back to object mode WITHOUT looplifting enabled because Function \"find_mutual_nn\" failed type inference due to: \u001b[1m\u001b[1mnon-precise type pyobject\u001b[0m\n",
      "\u001b[0m\u001b[1mDuring: typing of argument at C:\\Users\\Mujtaba Barci\\anaconda3\\lib\\site-packages\\mnnpy\\utils.py (94)\u001b[0m\n",
      "\u001b[1m\n",
      "File \"..\\..\\..\\anaconda3\\lib\\site-packages\\mnnpy\\utils.py\", line 94:\u001b[0m\n",
      "\u001b[1mdef find_mutual_nn(data1, data2, k1, k2, n_jobs):\n",
      "    <source elided>\n",
      "    mutual_2 = []\n",
      "\u001b[1m    for index_2 in range(data2.shape[0]):\n",
      "\u001b[0m    \u001b[1m^\u001b[0m\u001b[0m\n",
      "\u001b[0m\n",
      "  @jit((float32[:, :], float32[:, :], int8, int8, int8))\n",
      "C:\\Users\\Mujtaba Barci\\anaconda3\\lib\\site-packages\\numba\\core\\object_mode_passes.py:151: NumbaWarning: \u001b[1mFunction \"find_mutual_nn\" was compiled in object mode without forceobj=True.\n",
      "\u001b[1m\n",
      "File \"..\\..\\..\\anaconda3\\lib\\site-packages\\mnnpy\\utils.py\", line 94:\u001b[0m\n",
      "\u001b[1mdef find_mutual_nn(data1, data2, k1, k2, n_jobs):\n",
      "    <source elided>\n",
      "    mutual_2 = []\n",
      "\u001b[1m    for index_2 in range(data2.shape[0]):\n",
      "\u001b[0m    \u001b[1m^\u001b[0m\u001b[0m\n",
      "\u001b[0m\n",
      "  warnings.warn(errors.NumbaWarning(warn_msg,\n",
      "C:\\Users\\Mujtaba Barci\\anaconda3\\lib\\site-packages\\numba\\core\\object_mode_passes.py:161: NumbaDeprecationWarning: \u001b[1m\n",
      "Fall-back from the nopython compilation path to the object mode compilation path has been detected, this is deprecated behaviour.\n",
      "\n",
      "For more information visit https://numba.readthedocs.io/en/stable/reference/deprecation.html#deprecation-of-object-mode-fall-back-behaviour-when-using-jit\n",
      "\u001b[1m\n",
      "File \"..\\..\\..\\anaconda3\\lib\\site-packages\\mnnpy\\utils.py\", line 94:\u001b[0m\n",
      "\u001b[1mdef find_mutual_nn(data1, data2, k1, k2, n_jobs):\n",
      "    <source elided>\n",
      "    mutual_2 = []\n",
      "\u001b[1m    for index_2 in range(data2.shape[0]):\n",
      "\u001b[0m    \u001b[1m^\u001b[0m\u001b[0m\n",
      "\u001b[0m\n",
      "  warnings.warn(errors.NumbaDeprecationWarning(msg,\n"
     ]
    },
    {
     "name": "stdout",
     "output_type": "stream",
     "text": [
      "  Computing correction vectors...\n"
     ]
    },
    {
     "name": "stderr",
     "output_type": "stream",
     "text": [
      "C:\\Users\\Mujtaba Barci\\anaconda3\\lib\\site-packages\\mnnpy\\utils.py:102: NumbaWarning: \u001b[1m\n",
      "Compilation is falling back to object mode WITHOUT looplifting enabled because Function \"compute_correction\" failed type inference due to: \u001b[1m\u001b[1mnon-precise type pyobject\u001b[0m\n",
      "\u001b[0m\u001b[1mDuring: typing of argument at C:\\Users\\Mujtaba Barci\\anaconda3\\lib\\site-packages\\mnnpy\\utils.py (107)\u001b[0m\n",
      "\u001b[1m\n",
      "File \"..\\..\\..\\anaconda3\\lib\\site-packages\\mnnpy\\utils.py\", line 107:\u001b[0m\n",
      "\u001b[1mdef compute_correction(data1, data2, mnn1, mnn2, data2_or_raw2, sigma):\n",
      "    <source elided>\n",
      "    vect_reduced = np.zeros((data2.shape[0], vect.shape[1]), dtype=np.float32)\n",
      "\u001b[1m    for index, ve in zip(mnn2, vect):\n",
      "\u001b[0m    \u001b[1m^\u001b[0m\u001b[0m\n",
      "\u001b[0m\n",
      "  @jit(float32[:, :](float32[:, :], float32[:, :], int32[:], int32[:], float32[:, :], float32))\n",
      "C:\\Users\\Mujtaba Barci\\anaconda3\\lib\\site-packages\\numba\\core\\object_mode_passes.py:151: NumbaWarning: \u001b[1mFunction \"compute_correction\" was compiled in object mode without forceobj=True.\n",
      "\u001b[1m\n",
      "File \"..\\..\\..\\anaconda3\\lib\\site-packages\\mnnpy\\utils.py\", line 107:\u001b[0m\n",
      "\u001b[1mdef compute_correction(data1, data2, mnn1, mnn2, data2_or_raw2, sigma):\n",
      "    <source elided>\n",
      "    vect_reduced = np.zeros((data2.shape[0], vect.shape[1]), dtype=np.float32)\n",
      "\u001b[1m    for index, ve in zip(mnn2, vect):\n",
      "\u001b[0m    \u001b[1m^\u001b[0m\u001b[0m\n",
      "\u001b[0m\n",
      "  warnings.warn(errors.NumbaWarning(warn_msg,\n",
      "C:\\Users\\Mujtaba Barci\\anaconda3\\lib\\site-packages\\numba\\core\\object_mode_passes.py:161: NumbaDeprecationWarning: \u001b[1m\n",
      "Fall-back from the nopython compilation path to the object mode compilation path has been detected, this is deprecated behaviour.\n",
      "\n",
      "For more information visit https://numba.readthedocs.io/en/stable/reference/deprecation.html#deprecation-of-object-mode-fall-back-behaviour-when-using-jit\n",
      "\u001b[1m\n",
      "File \"..\\..\\..\\anaconda3\\lib\\site-packages\\mnnpy\\utils.py\", line 107:\u001b[0m\n",
      "\u001b[1mdef compute_correction(data1, data2, mnn1, mnn2, data2_or_raw2, sigma):\n",
      "    <source elided>\n",
      "    vect_reduced = np.zeros((data2.shape[0], vect.shape[1]), dtype=np.float32)\n",
      "\u001b[1m    for index, ve in zip(mnn2, vect):\n",
      "\u001b[0m    \u001b[1m^\u001b[0m\u001b[0m\n",
      "\u001b[0m\n",
      "  warnings.warn(errors.NumbaDeprecationWarning(msg,\n"
     ]
    },
    {
     "name": "stdout",
     "output_type": "stream",
     "text": [
      "  Removing components...\n",
      "  Adjusting variance...\n",
      "  Applying correction...\n",
      "Step 2 of 5: processing batch 2\n",
      "  Looking for MNNs...\n",
      "  Computing correction vectors...\n",
      "  Removing components...\n",
      "  Adjusting variance...\n",
      "  Applying correction...\n",
      "Step 3 of 5: processing batch 3\n",
      "  Looking for MNNs...\n",
      "  Computing correction vectors...\n",
      "  Removing components...\n",
      "  Adjusting variance...\n",
      "  Applying correction...\n",
      "Step 4 of 5: processing batch 4\n",
      "  Looking for MNNs...\n",
      "  Computing correction vectors...\n",
      "  Removing components...\n",
      "  Adjusting variance...\n",
      "  Applying correction...\n",
      "Step 5 of 5: processing batch 5\n",
      "  Looking for MNNs...\n",
      "  Computing correction vectors...\n",
      "  Removing components...\n",
      "  Adjusting variance...\n",
      "  Applying correction...\n",
      "MNN correction complete. Gathering output...\n",
      "Packing AnnData object...\n"
     ]
    },
    {
     "name": "stderr",
     "output_type": "stream",
     "text": [
      "C:\\Users\\Mujtaba Barci\\anaconda3\\lib\\site-packages\\anndata\\_core\\anndata.py:1785: FutureWarning: X.dtype being converted to np.float32 from float64. In the next version of anndata (0.9) conversion will not be automatic. Pass dtype explicitly to avoid this warning. Pass `AnnData(X, dtype=X.dtype, ...)` to get the future behavour.\n",
      "  [AnnData(sparse.csr_matrix(a.shape), obs=a.obs) for a in all_adatas],\n"
     ]
    },
    {
     "name": "stdout",
     "output_type": "stream",
     "text": [
      "Done.\n"
     ]
    }
   ],
   "source": [
    "cdata = sc.external.pp.mnn_correct(alldata['covid_1'],alldata['covid_15'],alldata['covid_17'],\n",
    "                                   alldata['ctrl_5'],alldata['ctrl_13'],alldata['ctrl_14'], \n",
    "                                   svd_dim = 50, batch_key = 'sample', save_raw = True, var_subset = var_genes)"
   ]
  },
  {
   "cell_type": "code",
   "execution_count": 13,
   "id": "dee92fd0",
   "metadata": {},
   "outputs": [
    {
     "data": {
      "text/plain": [
       "(5589, 1898)"
      ]
     },
     "execution_count": 13,
     "metadata": {},
     "output_type": "execute_result"
    }
   ],
   "source": [
    "corr_data = cdata[0][:,var_genes]\n",
    "corr_data.X.shape"
   ]
  },
  {
   "cell_type": "code",
   "execution_count": null,
   "id": "1b8fda18",
   "metadata": {},
   "outputs": [],
   "source": []
  }
 ],
 "metadata": {
  "kernelspec": {
   "display_name": "Python 3 (ipykernel)",
   "language": "python",
   "name": "python3"
  },
  "language_info": {
   "codemirror_mode": {
    "name": "ipython",
    "version": 3
   },
   "file_extension": ".py",
   "mimetype": "text/x-python",
   "name": "python",
   "nbconvert_exporter": "python",
   "pygments_lexer": "ipython3",
   "version": "3.9.12"
  }
 },
 "nbformat": 4,
 "nbformat_minor": 5
}
