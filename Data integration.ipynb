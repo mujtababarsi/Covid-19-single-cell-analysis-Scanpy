{
 "cells": [
  {
   "cell_type": "code",
   "execution_count": 1,
   "id": "e975c8cd",
   "metadata": {},
   "outputs": [],
   "source": [
    "import numpy as np\n",
    "import pandas as pd\n",
    "import scanpy as sc\n",
    "import matplotlib.pyplot as plt\n",
    "\n",
    "sc.settings.verbosity = 3             \n",
    "\n",
    "sc.settings.set_figure_params(dpi=80)\n",
    "%matplotlib inline"
   ]
  },
  {
   "cell_type": "code",
   "execution_count": 2,
   "id": "70a1f7df",
   "metadata": {},
   "outputs": [],
   "source": [
    "# Load the stored data object\n",
    "save_file = './data/results/scanpy_dr_covid.h5ad'\n",
    "adata = sc.read_h5ad(save_file)\n"
   ]
  },
  {
   "cell_type": "code",
   "execution_count": 3,
   "id": "cc025a8d",
   "metadata": {},
   "outputs": [
    {
     "name": "stdout",
     "output_type": "stream",
     "text": [
      "(5589, 3058)\n"
     ]
    }
   ],
   "source": [
    "print(adata.X.shape)"
   ]
  },
  {
   "cell_type": "code",
   "execution_count": 4,
   "id": "e71135e2",
   "metadata": {},
   "outputs": [],
   "source": [
    "adata2 = adata.raw.to_adata() "
   ]
  },
  {
   "cell_type": "code",
   "execution_count": 5,
   "id": "463ab952",
   "metadata": {},
   "outputs": [
    {
     "data": {
      "text/plain": [
       "AnnData object with n_obs × n_vars = 5589 × 18752\n",
       "    obs: 'type', 'sample', 'batch', 'n_genes_by_counts', 'total_counts', 'total_counts_mt', 'pct_counts_mt', 'total_counts_ribo', 'pct_counts_ribo', 'total_counts_hb', 'pct_counts_hb', 'percent_mt2', 'n_counts', 'n_genes', 'percent_chrY', 'XIST-counts', 'S_score', 'G2M_score', 'phase', 'doublet_scores', 'predicted_doublets', 'doublet_info'\n",
       "    var: 'gene_ids', 'feature_types', 'genome', 'mt', 'ribo', 'hb', 'n_cells_by_counts', 'mean_counts', 'pct_dropout_by_counts', 'total_counts', 'n_cells'\n",
       "    uns: 'doublet_info_colors', 'hvg', 'log1p', 'neighbors', 'pca', 'sample_colors', 'tsne', 'umap'\n",
       "    obsm: 'X_pca', 'X_tsne', 'X_umap'\n",
       "    obsp: 'connectivities', 'distances'"
      ]
     },
     "execution_count": 5,
     "metadata": {},
     "output_type": "execute_result"
    }
   ],
   "source": [
    "adata2"
   ]
  },
  {
   "cell_type": "code",
   "execution_count": 6,
   "id": "7d5ce61c",
   "metadata": {},
   "outputs": [
    {
     "name": "stdout",
     "output_type": "stream",
     "text": [
      "  (0, 5)\t0.9678403\n",
      "  (1, 5)\t0.5124039\n"
     ]
    }
   ],
   "source": [
    "print(adata2.X[1:10,1:10])\n"
   ]
  },
  {
   "cell_type": "markdown",
   "id": "a2ba0f2a",
   "metadata": {},
   "source": [
    "### 1. Detect variable genes "
   ]
  },
  {
   "cell_type": "code",
   "execution_count": 7,
   "id": "6fbca31b",
   "metadata": {},
   "outputs": [
    {
     "name": "stdout",
     "output_type": "stream",
     "text": [
      "Highly variable genes: 3058\n"
     ]
    }
   ],
   "source": [
    "var_genes_all = adata.var.highly_variable\n",
    "\n",
    "print(\"Highly variable genes: %d\"%sum(var_genes_all))"
   ]
  },
  {
   "cell_type": "code",
   "execution_count": 8,
   "id": "fefbc70b",
   "metadata": {},
   "outputs": [
    {
     "name": "stdout",
     "output_type": "stream",
     "text": [
      "extracting highly variable genes\n"
     ]
    },
    {
     "ename": "KeyError",
     "evalue": "'base'",
     "output_type": "error",
     "traceback": [
      "\u001b[1;31m---------------------------------------------------------------------------\u001b[0m",
      "\u001b[1;31mKeyError\u001b[0m                                  Traceback (most recent call last)",
      "Input \u001b[1;32mIn [8]\u001b[0m, in \u001b[0;36m<cell line: 1>\u001b[1;34m()\u001b[0m\n\u001b[1;32m----> 1\u001b[0m \u001b[43msc\u001b[49m\u001b[38;5;241;43m.\u001b[39;49m\u001b[43mpp\u001b[49m\u001b[38;5;241;43m.\u001b[39;49m\u001b[43mhighly_variable_genes\u001b[49m\u001b[43m(\u001b[49m\u001b[43madata2\u001b[49m\u001b[43m,\u001b[49m\u001b[43m \u001b[49m\u001b[43mmin_mean\u001b[49m\u001b[38;5;241;43m=\u001b[39;49m\u001b[38;5;241;43m0.0125\u001b[39;49m\u001b[43m,\u001b[49m\u001b[43m \u001b[49m\u001b[43mmax_mean\u001b[49m\u001b[38;5;241;43m=\u001b[39;49m\u001b[38;5;241;43m3\u001b[39;49m\u001b[43m,\u001b[49m\u001b[43m \u001b[49m\u001b[43mmin_disp\u001b[49m\u001b[38;5;241;43m=\u001b[39;49m\u001b[38;5;241;43m0.5\u001b[39;49m\u001b[43m,\u001b[49m\u001b[43m \u001b[49m\u001b[43mbatch_key\u001b[49m\u001b[43m \u001b[49m\u001b[38;5;241;43m=\u001b[39;49m\u001b[43m \u001b[49m\u001b[38;5;124;43m'\u001b[39;49m\u001b[38;5;124;43msample\u001b[39;49m\u001b[38;5;124;43m'\u001b[39;49m\u001b[43m)\u001b[49m\n",
      "File \u001b[1;32m~\\anaconda3\\lib\\site-packages\\scanpy\\preprocessing\\_highly_variable_genes.py:459\u001b[0m, in \u001b[0;36mhighly_variable_genes\u001b[1;34m(adata, layer, n_top_genes, min_disp, max_disp, min_mean, max_mean, span, n_bins, flavor, subset, inplace, batch_key, check_values)\u001b[0m\n\u001b[0;32m    455\u001b[0m     filt \u001b[38;5;241m=\u001b[39m filter_genes(adata_subset, min_cells\u001b[38;5;241m=\u001b[39m\u001b[38;5;241m1\u001b[39m, inplace\u001b[38;5;241m=\u001b[39m\u001b[38;5;28;01mFalse\u001b[39;00m)[\u001b[38;5;241m0\u001b[39m]\n\u001b[0;32m    457\u001b[0m adata_subset \u001b[38;5;241m=\u001b[39m adata_subset[:, filt]\n\u001b[1;32m--> 459\u001b[0m hvg \u001b[38;5;241m=\u001b[39m \u001b[43m_highly_variable_genes_single_batch\u001b[49m\u001b[43m(\u001b[49m\n\u001b[0;32m    460\u001b[0m \u001b[43m    \u001b[49m\u001b[43madata_subset\u001b[49m\u001b[43m,\u001b[49m\n\u001b[0;32m    461\u001b[0m \u001b[43m    \u001b[49m\u001b[43mmin_disp\u001b[49m\u001b[38;5;241;43m=\u001b[39;49m\u001b[43mmin_disp\u001b[49m\u001b[43m,\u001b[49m\n\u001b[0;32m    462\u001b[0m \u001b[43m    \u001b[49m\u001b[43mmax_disp\u001b[49m\u001b[38;5;241;43m=\u001b[39;49m\u001b[43mmax_disp\u001b[49m\u001b[43m,\u001b[49m\n\u001b[0;32m    463\u001b[0m \u001b[43m    \u001b[49m\u001b[43mmin_mean\u001b[49m\u001b[38;5;241;43m=\u001b[39;49m\u001b[43mmin_mean\u001b[49m\u001b[43m,\u001b[49m\n\u001b[0;32m    464\u001b[0m \u001b[43m    \u001b[49m\u001b[43mmax_mean\u001b[49m\u001b[38;5;241;43m=\u001b[39;49m\u001b[43mmax_mean\u001b[49m\u001b[43m,\u001b[49m\n\u001b[0;32m    465\u001b[0m \u001b[43m    \u001b[49m\u001b[43mn_top_genes\u001b[49m\u001b[38;5;241;43m=\u001b[39;49m\u001b[43mn_top_genes\u001b[49m\u001b[43m,\u001b[49m\n\u001b[0;32m    466\u001b[0m \u001b[43m    \u001b[49m\u001b[43mn_bins\u001b[49m\u001b[38;5;241;43m=\u001b[39;49m\u001b[43mn_bins\u001b[49m\u001b[43m,\u001b[49m\n\u001b[0;32m    467\u001b[0m \u001b[43m    \u001b[49m\u001b[43mflavor\u001b[49m\u001b[38;5;241;43m=\u001b[39;49m\u001b[43mflavor\u001b[49m\u001b[43m,\u001b[49m\n\u001b[0;32m    468\u001b[0m \u001b[43m\u001b[49m\u001b[43m)\u001b[49m\n\u001b[0;32m    470\u001b[0m \u001b[38;5;66;03m# Add 0 values for genes that were filtered out\u001b[39;00m\n\u001b[0;32m    471\u001b[0m missing_hvg \u001b[38;5;241m=\u001b[39m pd\u001b[38;5;241m.\u001b[39mDataFrame(\n\u001b[0;32m    472\u001b[0m     np\u001b[38;5;241m.\u001b[39mzeros((np\u001b[38;5;241m.\u001b[39msum(\u001b[38;5;241m~\u001b[39mfilt), \u001b[38;5;28mlen\u001b[39m(hvg\u001b[38;5;241m.\u001b[39mcolumns))),\n\u001b[0;32m    473\u001b[0m     columns\u001b[38;5;241m=\u001b[39mhvg\u001b[38;5;241m.\u001b[39mcolumns,\n\u001b[0;32m    474\u001b[0m )\n",
      "File \u001b[1;32m~\\anaconda3\\lib\\site-packages\\scanpy\\preprocessing\\_highly_variable_genes.py:198\u001b[0m, in \u001b[0;36m_highly_variable_genes_single_batch\u001b[1;34m(adata, layer, min_disp, max_disp, min_mean, max_mean, n_top_genes, n_bins, flavor)\u001b[0m\n\u001b[0;32m    196\u001b[0m X \u001b[38;5;241m=\u001b[39m adata\u001b[38;5;241m.\u001b[39mlayers[layer] \u001b[38;5;28;01mif\u001b[39;00m layer \u001b[38;5;129;01mis\u001b[39;00m \u001b[38;5;129;01mnot\u001b[39;00m \u001b[38;5;28;01mNone\u001b[39;00m \u001b[38;5;28;01melse\u001b[39;00m adata\u001b[38;5;241m.\u001b[39mX\n\u001b[0;32m    197\u001b[0m \u001b[38;5;28;01mif\u001b[39;00m flavor \u001b[38;5;241m==\u001b[39m \u001b[38;5;124m'\u001b[39m\u001b[38;5;124mseurat\u001b[39m\u001b[38;5;124m'\u001b[39m:\n\u001b[1;32m--> 198\u001b[0m     \u001b[38;5;28;01mif\u001b[39;00m \u001b[38;5;124m'\u001b[39m\u001b[38;5;124mlog1p\u001b[39m\u001b[38;5;124m'\u001b[39m \u001b[38;5;129;01min\u001b[39;00m adata\u001b[38;5;241m.\u001b[39muns_keys() \u001b[38;5;129;01mand\u001b[39;00m \u001b[43madata\u001b[49m\u001b[38;5;241;43m.\u001b[39;49m\u001b[43muns\u001b[49m\u001b[43m[\u001b[49m\u001b[38;5;124;43m'\u001b[39;49m\u001b[38;5;124;43mlog1p\u001b[39;49m\u001b[38;5;124;43m'\u001b[39;49m\u001b[43m]\u001b[49m\u001b[43m[\u001b[49m\u001b[38;5;124;43m'\u001b[39;49m\u001b[38;5;124;43mbase\u001b[39;49m\u001b[38;5;124;43m'\u001b[39;49m\u001b[43m]\u001b[49m \u001b[38;5;129;01mis\u001b[39;00m \u001b[38;5;129;01mnot\u001b[39;00m \u001b[38;5;28;01mNone\u001b[39;00m:\n\u001b[0;32m    199\u001b[0m         X \u001b[38;5;241m*\u001b[39m\u001b[38;5;241m=\u001b[39m np\u001b[38;5;241m.\u001b[39mlog(adata\u001b[38;5;241m.\u001b[39muns[\u001b[38;5;124m'\u001b[39m\u001b[38;5;124mlog1p\u001b[39m\u001b[38;5;124m'\u001b[39m][\u001b[38;5;124m'\u001b[39m\u001b[38;5;124mbase\u001b[39m\u001b[38;5;124m'\u001b[39m])\n\u001b[0;32m    200\u001b[0m     X \u001b[38;5;241m=\u001b[39m np\u001b[38;5;241m.\u001b[39mexpm1(X)\n",
      "\u001b[1;31mKeyError\u001b[0m: 'base'"
     ]
    }
   ],
   "source": [
    "sc.pp.highly_variable_genes(adata2, min_mean=0.0125, max_mean=3, min_disp=0.5, batch_key = 'sample')"
   ]
  },
  {
   "cell_type": "code",
   "execution_count": null,
   "id": "41365dd6",
   "metadata": {},
   "outputs": [],
   "source": []
  }
 ],
 "metadata": {
  "kernelspec": {
   "display_name": "Python 3 (ipykernel)",
   "language": "python",
   "name": "python3"
  },
  "language_info": {
   "codemirror_mode": {
    "name": "ipython",
    "version": 3
   },
   "file_extension": ".py",
   "mimetype": "text/x-python",
   "name": "python",
   "nbconvert_exporter": "python",
   "pygments_lexer": "ipython3",
   "version": "3.9.12"
  }
 },
 "nbformat": 4,
 "nbformat_minor": 5
}
